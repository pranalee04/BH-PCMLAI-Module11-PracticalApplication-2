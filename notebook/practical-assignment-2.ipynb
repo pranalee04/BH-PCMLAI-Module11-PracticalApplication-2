{
 "cells": [
  {
   "attachments": {},
   "cell_type": "markdown",
   "metadata": {},
   "source": [
    "**OVERVIEW**\n",
    "\n",
    "The goal of this practical assignment is to understand what factors make a car more or less expensive and provide recommendations to my client who is a used car dealership as to what consumers value in a used car. Another important learning goal of this assigment is to study and use the CRISP-DM Framework."
   ]
  },
  {
   "cell_type": "markdown",
   "metadata": {},
   "source": [
    "# What drives the price of a car?\n",
    "\n",
    "![](images/kurt.jpeg)"
   ]
  },
  {
   "attachments": {},
   "cell_type": "markdown",
   "metadata": {},
   "source": [
    "### CRISP-DM Framework\n",
    "\n",
    "<center>\n",
    "    <img src = ../images/crisp.png width = 20%/>\n",
    "</center>\n",
    "\n",
    "The Cross Industry Standard Process for Data Mining (CRISP-DM) is a process model that serves as the base for a data science process. It has six sequential phases:\n",
    "\n",
    "* Business understanding – What does the business need?*\n",
    "* Data understanding – What data do we have / need? Is it clean?\n",
    "* Data preparation – How do we organize the data for modeling?\n",
    "* Modeling – What modeling techniques should we apply?\n",
    "* Evaluation – Which model best meets the business objectives?\n",
    "* Deployment – How do stakeholders access the results?\n",
    "\n"
   ]
  },
  {
   "attachments": {},
   "cell_type": "markdown",
   "metadata": {},
   "source": [
    " I have organized the practicle assignment as per the CRISP-DM Framework phases as below:"
   ]
  },
  {
   "attachments": {},
   "cell_type": "markdown",
   "metadata": {},
   "source": [
    "### Business Understanding\n",
    "\n",
    "From a business perspective, we are tasked with identifying key drivers for used car prices.  In the CRISP-DM overview, we are asked to convert this business framing to a data problem definition.  Using a few sentences, reframe the task as a data task with the appropriate technical vocabulary. \n",
    "\n",
    "\n",
    "1. Determine Business Objectives\n",
    "    * Background: The  dataset [vehicles](../dataset/vehicles.csv) contains information on 426K cars.\n",
    "\n",
    "    * Business Objectives: The goal is to understand what factors make a car more or less expensive and what consumers value in a used car. \n",
    "\n",
    "    * Business Success Criteria: Provide my customer with used car dealer recommendations on what consumers value in a used car.\n",
    "\n",
    "\n",
    "2. Assess the Situation\n",
    "    * Inventory of Resources: Assignment files \"practical_application_II_starter\" containing starter Jupiter notebook, dataset [vehicles](../dataset/vehicles.csv), readings starter documents to understand CRISP-DM Framework, discussion with course classmates, course material upto module 11.\n",
    "provide\n",
    "    * Requirements, Assumptions, and Constraints: Provide a recomendation report to my client, a used car dealership. The assumption is that as the dataset is from the public database Kaggle, it's acceptable to use it in a practical assignment. The original vehicle dataset contained 3 million cars; however, the dataset used in this practical assignment consists of 426K records to ensure processing speed.\n",
    "\n",
    "    * Risks and Contingencies terminology: The success will depend on my understanding of topics covered up to module 11, the data processing is done on the dataset, and the modal/modals I selected as a part of my solution.\n",
    "\n",
    "    * Costs and Benefits: The derived modal will help my client, a user car dealership, to adjust the price of used cars, understand what consumers value in a used car, and accordingly adjust the ads and promotion strategies to drive up the sales of used cars.\n",
    "\n",
    "3. Determine Data Mining Goals\n",
    "    * Data Mining Goals： Predict the price range that a seller is willing to sell and a buyer willing to buy, and the sale price for the car.\n",
    "\n",
    "    * Data Mining Success Criteria： MSE or error rate when using a trained model to predict the price of sale to the untrained dataset.\n",
    "4. Produce Project Plan\n",
    "    * Project Plan： The CRISP framework is used to understand the business objective and data, prepare the data for modeling, evaluate the result, and present the finding in a report\n",
    "    * Initial Assessment of Tools and Techniques： Jupiter Notebook is used as a computational documents tool for this assignment. The programming language used is Python, and the libraries used are: Pandas, Plotly, Seaborn, Matplotlib,  Numpy , Sklearn,statsmodels"
   ]
  },
  {
   "attachments": {},
   "cell_type": "markdown",
   "metadata": {},
   "source": [
    "### Data Understanding\n",
    "\n",
    "After considering the business understanding, I explored dataset to understand the data columns and data contained in each column and identify any quality issues. \n",
    "Data Understanding\n",
    "\n",
    "##### Collect Initial Data\n",
    "Initial data collection report:The vehicles.csv dataframe contains 426880 records and features 18 features. \n",
    "\n",
    "##### Describe Data\n",
    "Data Description report: \n",
    "* There are two int64 columns,two  float64 columns, and 14 object columns. \n",
    "* The vehicles.csv dataset contains following columns:\n",
    "\n",
    "|columns|\n",
    "|-------|\n",
    "|id|\n",
    "|region|\n",
    "|price|\n",
    "|year|\n",
    "|manufacturer|\n",
    "|model|\n",
    "|condition|\n",
    "|cylinders|\n",
    "|fuel|\n",
    "|odometer|\n",
    "|title_status|\n",
    "|transmission|\n",
    "|VIN|\n",
    "|drive|\n",
    "|size|\n",
    "|type|\n",
    "|paint_color|\n",
    "|state|\n",
    "\n",
    "##### Explore Data\n",
    "\n",
    "Data Exploration report: \n",
    "* Id, price, year and odometer are the numeric columns. Id and price don't have null values\n",
    "\n",
    "* state, region columns don't have nulls\n",
    "\n",
    "* I found following categorical columns that can be usefull for my analysis:\n",
    "\n",
    "|column \t \t|values|\n",
    "|---------------|-------|\n",
    "|size      |NaN,'full-size','mid-size','compact','sub-compact'|\n",
    "|drive      |NaN,'rwd','4wd','fwd'|\n",
    "|type \t \t|NaN,'pickup','truck','other','coupe','SUV','hatchback','mini-van','sedan','offroad','bus','van', 'convertible','wagon'|\n",
    "|paint_color \t \t|NaN,'white','blue','red','black', 'silver','grey','brown','yellow','orange','green','custom','purple'|\n",
    "|title_status \t \t|NaN,'clean','rebuilt','lien','salvage','missing','parts only'|\n",
    "|transmission \t \t|NaN,'other','automatic','manual'|\n",
    "|fuel \t \t|NaN,'gas', 'other', 'diesel', 'hybrid', 'electric'|\n",
    "|cylinders \t \t|NaN,'8 cylinders','6 cylinders','4 cylinders','5 cylinders','other','3 cylinders','10 cylinders','12 cylinders'|\n",
    "|condition \t \t|NaN, 'good', 'excellent', 'fair', 'like new', 'new', 'salvage'|\n",
    "|state \t \t|list of US 51 states|\n",
    "\n",
    "##### Verify Data Quality\n",
    "\n",
    "Data Quality report: \n",
    "* Dropna with how=any reduces the record count to 34868 hence its not suitable to drop nulls on entire dataset. \n",
    "* object columns were of the String datatype\n",
    "* The following categorical columns has the most null values.\n",
    "\n",
    "|column \t \t|null count|\n",
    "|---------------|-------|\n",
    "|condition      | 174104|\n",
    "|cylinders      |177678 |\n",
    "|VIN            |161042 |\n",
    "|drive          |130567 |\n",
    "|size           |306361 |\n",
    "|paint_color    |130203 |\n",
    "* price being the non null and the main column that will be used to perfrom data analysis \n",
    "* Odometer and year are important numeric column, but their non null count is 4400 and 1205 respectively which is high."
   ]
  },
  {
   "cell_type": "code",
   "execution_count": 1,
   "metadata": {},
   "outputs": [],
   "source": [
    "# Referenced Python libraries\n",
    "import statsmodels.api as sm\n",
    "import matplotlib.pyplot as plt\n",
    "import pandas as pd\n",
    "import numpy as np\n",
    "import plotly.express as px\n",
    "import seaborn as sns\n",
    "import statsmodels.graphics.tsaplots as tsplots\n",
    "from sklearn.model_selection import cross_val_score\n",
    "from sklearn.model_selection import train_test_split\n",
    "from sklearn.preprocessing import LabelEncoder\n",
    "from sklearn.metrics import mean_squared_error\n",
    "from sklearn.datasets import make_blobs\n",
    "from sklearn.linear_model import LinearRegression, HuberRegressor, Lasso, Ridge\n",
    "from sklearn.model_selection import KFold, train_test_split, GridSearchCV\n",
    "from sklearn import metrics\n",
    "from sklearn.metrics import mean_squared_error, r2_score, mean_absolute_error\n",
    "from sklearn.pipeline import Pipeline\n",
    "from sklearn.feature_selection import SequentialFeatureSelector, SelectFromModel\n",
    "from sklearn.preprocessing import StandardScaler, PolynomialFeatures\n",
    "from sklearn import set_config\n",
    "import warnings\n",
    "warnings.filterwarnings('ignore')"
   ]
  },
  {
   "cell_type": "code",
   "execution_count": 2,
   "metadata": {},
   "outputs": [
    {
     "data": {
      "text/plain": [
       "(426880, 18)"
      ]
     },
     "execution_count": 2,
     "metadata": {},
     "output_type": "execute_result"
    }
   ],
   "source": [
    "#Collect Initial Data\n",
    "data = pd.read_csv('../dataset/vehicles.csv')\n",
    "data.shape\n"
   ]
  },
  {
   "cell_type": "code",
   "execution_count": 3,
   "metadata": {},
   "outputs": [
    {
     "name": "stdout",
     "output_type": "stream",
     "text": [
      "<class 'pandas.core.frame.DataFrame'>\n",
      "RangeIndex: 426880 entries, 0 to 426879\n",
      "Data columns (total 18 columns):\n",
      " #   Column        Non-Null Count   Dtype  \n",
      "---  ------        --------------   -----  \n",
      " 0   id            426880 non-null  int64  \n",
      " 1   region        426880 non-null  object \n",
      " 2   price         426880 non-null  int64  \n",
      " 3   year          425675 non-null  float64\n",
      " 4   manufacturer  409234 non-null  object \n",
      " 5   model         421603 non-null  object \n",
      " 6   condition     252776 non-null  object \n",
      " 7   cylinders     249202 non-null  object \n",
      " 8   fuel          423867 non-null  object \n",
      " 9   odometer      422480 non-null  float64\n",
      " 10  title_status  418638 non-null  object \n",
      " 11  transmission  424324 non-null  object \n",
      " 12  VIN           265838 non-null  object \n",
      " 13  drive         296313 non-null  object \n",
      " 14  size          120519 non-null  object \n",
      " 15  type          334022 non-null  object \n",
      " 16  paint_color   296677 non-null  object \n",
      " 17  state         426880 non-null  object \n",
      "dtypes: float64(2), int64(2), object(14)\n",
      "memory usage: 58.6+ MB\n"
     ]
    }
   ],
   "source": [
    "# Describe data\n",
    "data.info()"
   ]
  },
  {
   "cell_type": "code",
   "execution_count": 4,
   "metadata": {},
   "outputs": [
    {
     "data": {
      "text/plain": [
       "Index(['id', 'region', 'price', 'year', 'manufacturer', 'model', 'condition',\n",
       "       'cylinders', 'fuel', 'odometer', 'title_status', 'transmission', 'VIN',\n",
       "       'drive', 'size', 'type', 'paint_color', 'state'],\n",
       "      dtype='object')"
      ]
     },
     "execution_count": 4,
     "metadata": {},
     "output_type": "execute_result"
    }
   ],
   "source": [
    "# Describe data\n",
    "\n",
    "data.columns"
   ]
  },
  {
   "cell_type": "code",
   "execution_count": 5,
   "metadata": {},
   "outputs": [
    {
     "data": {
      "text/html": [
       "<div>\n",
       "<style scoped>\n",
       "    .dataframe tbody tr th:only-of-type {\n",
       "        vertical-align: middle;\n",
       "    }\n",
       "\n",
       "    .dataframe tbody tr th {\n",
       "        vertical-align: top;\n",
       "    }\n",
       "\n",
       "    .dataframe thead th {\n",
       "        text-align: right;\n",
       "    }\n",
       "</style>\n",
       "<table border=\"1\" class=\"dataframe\">\n",
       "  <thead>\n",
       "    <tr style=\"text-align: right;\">\n",
       "      <th></th>\n",
       "      <th>id</th>\n",
       "      <th>region</th>\n",
       "      <th>price</th>\n",
       "      <th>year</th>\n",
       "      <th>manufacturer</th>\n",
       "      <th>model</th>\n",
       "      <th>condition</th>\n",
       "      <th>cylinders</th>\n",
       "      <th>fuel</th>\n",
       "      <th>odometer</th>\n",
       "      <th>title_status</th>\n",
       "      <th>transmission</th>\n",
       "      <th>VIN</th>\n",
       "      <th>drive</th>\n",
       "      <th>size</th>\n",
       "      <th>type</th>\n",
       "      <th>paint_color</th>\n",
       "      <th>state</th>\n",
       "    </tr>\n",
       "  </thead>\n",
       "  <tbody>\n",
       "    <tr>\n",
       "      <th>0</th>\n",
       "      <td>7222695916</td>\n",
       "      <td>prescott</td>\n",
       "      <td>6000</td>\n",
       "      <td>NaN</td>\n",
       "      <td>NaN</td>\n",
       "      <td>NaN</td>\n",
       "      <td>NaN</td>\n",
       "      <td>NaN</td>\n",
       "      <td>NaN</td>\n",
       "      <td>NaN</td>\n",
       "      <td>NaN</td>\n",
       "      <td>NaN</td>\n",
       "      <td>NaN</td>\n",
       "      <td>NaN</td>\n",
       "      <td>NaN</td>\n",
       "      <td>NaN</td>\n",
       "      <td>NaN</td>\n",
       "      <td>az</td>\n",
       "    </tr>\n",
       "    <tr>\n",
       "      <th>1</th>\n",
       "      <td>7218891961</td>\n",
       "      <td>fayetteville</td>\n",
       "      <td>11900</td>\n",
       "      <td>NaN</td>\n",
       "      <td>NaN</td>\n",
       "      <td>NaN</td>\n",
       "      <td>NaN</td>\n",
       "      <td>NaN</td>\n",
       "      <td>NaN</td>\n",
       "      <td>NaN</td>\n",
       "      <td>NaN</td>\n",
       "      <td>NaN</td>\n",
       "      <td>NaN</td>\n",
       "      <td>NaN</td>\n",
       "      <td>NaN</td>\n",
       "      <td>NaN</td>\n",
       "      <td>NaN</td>\n",
       "      <td>ar</td>\n",
       "    </tr>\n",
       "    <tr>\n",
       "      <th>2</th>\n",
       "      <td>7221797935</td>\n",
       "      <td>florida keys</td>\n",
       "      <td>21000</td>\n",
       "      <td>NaN</td>\n",
       "      <td>NaN</td>\n",
       "      <td>NaN</td>\n",
       "      <td>NaN</td>\n",
       "      <td>NaN</td>\n",
       "      <td>NaN</td>\n",
       "      <td>NaN</td>\n",
       "      <td>NaN</td>\n",
       "      <td>NaN</td>\n",
       "      <td>NaN</td>\n",
       "      <td>NaN</td>\n",
       "      <td>NaN</td>\n",
       "      <td>NaN</td>\n",
       "      <td>NaN</td>\n",
       "      <td>fl</td>\n",
       "    </tr>\n",
       "    <tr>\n",
       "      <th>3</th>\n",
       "      <td>7222270760</td>\n",
       "      <td>worcester / central MA</td>\n",
       "      <td>1500</td>\n",
       "      <td>NaN</td>\n",
       "      <td>NaN</td>\n",
       "      <td>NaN</td>\n",
       "      <td>NaN</td>\n",
       "      <td>NaN</td>\n",
       "      <td>NaN</td>\n",
       "      <td>NaN</td>\n",
       "      <td>NaN</td>\n",
       "      <td>NaN</td>\n",
       "      <td>NaN</td>\n",
       "      <td>NaN</td>\n",
       "      <td>NaN</td>\n",
       "      <td>NaN</td>\n",
       "      <td>NaN</td>\n",
       "      <td>ma</td>\n",
       "    </tr>\n",
       "    <tr>\n",
       "      <th>4</th>\n",
       "      <td>7210384030</td>\n",
       "      <td>greensboro</td>\n",
       "      <td>4900</td>\n",
       "      <td>NaN</td>\n",
       "      <td>NaN</td>\n",
       "      <td>NaN</td>\n",
       "      <td>NaN</td>\n",
       "      <td>NaN</td>\n",
       "      <td>NaN</td>\n",
       "      <td>NaN</td>\n",
       "      <td>NaN</td>\n",
       "      <td>NaN</td>\n",
       "      <td>NaN</td>\n",
       "      <td>NaN</td>\n",
       "      <td>NaN</td>\n",
       "      <td>NaN</td>\n",
       "      <td>NaN</td>\n",
       "      <td>nc</td>\n",
       "    </tr>\n",
       "  </tbody>\n",
       "</table>\n",
       "</div>"
      ],
      "text/plain": [
       "           id                  region  price  year manufacturer model  \\\n",
       "0  7222695916                prescott   6000   NaN          NaN   NaN   \n",
       "1  7218891961            fayetteville  11900   NaN          NaN   NaN   \n",
       "2  7221797935            florida keys  21000   NaN          NaN   NaN   \n",
       "3  7222270760  worcester / central MA   1500   NaN          NaN   NaN   \n",
       "4  7210384030              greensboro   4900   NaN          NaN   NaN   \n",
       "\n",
       "  condition cylinders fuel  odometer title_status transmission  VIN drive  \\\n",
       "0       NaN       NaN  NaN       NaN          NaN          NaN  NaN   NaN   \n",
       "1       NaN       NaN  NaN       NaN          NaN          NaN  NaN   NaN   \n",
       "2       NaN       NaN  NaN       NaN          NaN          NaN  NaN   NaN   \n",
       "3       NaN       NaN  NaN       NaN          NaN          NaN  NaN   NaN   \n",
       "4       NaN       NaN  NaN       NaN          NaN          NaN  NaN   NaN   \n",
       "\n",
       "  size type paint_color state  \n",
       "0  NaN  NaN         NaN    az  \n",
       "1  NaN  NaN         NaN    ar  \n",
       "2  NaN  NaN         NaN    fl  \n",
       "3  NaN  NaN         NaN    ma  \n",
       "4  NaN  NaN         NaN    nc  "
      ]
     },
     "execution_count": 5,
     "metadata": {},
     "output_type": "execute_result"
    }
   ],
   "source": [
    "# Explore data\n",
    "\n",
    "data.head()"
   ]
  },
  {
   "cell_type": "code",
   "execution_count": 6,
   "metadata": {},
   "outputs": [
    {
     "data": {
      "text/html": [
       "<div>\n",
       "<style scoped>\n",
       "    .dataframe tbody tr th:only-of-type {\n",
       "        vertical-align: middle;\n",
       "    }\n",
       "\n",
       "    .dataframe tbody tr th {\n",
       "        vertical-align: top;\n",
       "    }\n",
       "\n",
       "    .dataframe thead th {\n",
       "        text-align: right;\n",
       "    }\n",
       "</style>\n",
       "<table border=\"1\" class=\"dataframe\">\n",
       "  <thead>\n",
       "    <tr style=\"text-align: right;\">\n",
       "      <th></th>\n",
       "      <th>id</th>\n",
       "      <th>region</th>\n",
       "      <th>price</th>\n",
       "      <th>year</th>\n",
       "      <th>manufacturer</th>\n",
       "      <th>model</th>\n",
       "      <th>condition</th>\n",
       "      <th>cylinders</th>\n",
       "      <th>fuel</th>\n",
       "      <th>odometer</th>\n",
       "      <th>title_status</th>\n",
       "      <th>transmission</th>\n",
       "      <th>VIN</th>\n",
       "      <th>drive</th>\n",
       "      <th>size</th>\n",
       "      <th>type</th>\n",
       "      <th>paint_color</th>\n",
       "      <th>state</th>\n",
       "    </tr>\n",
       "  </thead>\n",
       "  <tbody>\n",
       "    <tr>\n",
       "      <th>426875</th>\n",
       "      <td>7301591192</td>\n",
       "      <td>wyoming</td>\n",
       "      <td>23590</td>\n",
       "      <td>2019.0</td>\n",
       "      <td>nissan</td>\n",
       "      <td>maxima s sedan 4d</td>\n",
       "      <td>good</td>\n",
       "      <td>6 cylinders</td>\n",
       "      <td>gas</td>\n",
       "      <td>32226.0</td>\n",
       "      <td>clean</td>\n",
       "      <td>other</td>\n",
       "      <td>1N4AA6AV6KC367801</td>\n",
       "      <td>fwd</td>\n",
       "      <td>NaN</td>\n",
       "      <td>sedan</td>\n",
       "      <td>NaN</td>\n",
       "      <td>wy</td>\n",
       "    </tr>\n",
       "    <tr>\n",
       "      <th>426876</th>\n",
       "      <td>7301591187</td>\n",
       "      <td>wyoming</td>\n",
       "      <td>30590</td>\n",
       "      <td>2020.0</td>\n",
       "      <td>volvo</td>\n",
       "      <td>s60 t5 momentum sedan 4d</td>\n",
       "      <td>good</td>\n",
       "      <td>NaN</td>\n",
       "      <td>gas</td>\n",
       "      <td>12029.0</td>\n",
       "      <td>clean</td>\n",
       "      <td>other</td>\n",
       "      <td>7JR102FKXLG042696</td>\n",
       "      <td>fwd</td>\n",
       "      <td>NaN</td>\n",
       "      <td>sedan</td>\n",
       "      <td>red</td>\n",
       "      <td>wy</td>\n",
       "    </tr>\n",
       "    <tr>\n",
       "      <th>426877</th>\n",
       "      <td>7301591147</td>\n",
       "      <td>wyoming</td>\n",
       "      <td>34990</td>\n",
       "      <td>2020.0</td>\n",
       "      <td>cadillac</td>\n",
       "      <td>xt4 sport suv 4d</td>\n",
       "      <td>good</td>\n",
       "      <td>NaN</td>\n",
       "      <td>diesel</td>\n",
       "      <td>4174.0</td>\n",
       "      <td>clean</td>\n",
       "      <td>other</td>\n",
       "      <td>1GYFZFR46LF088296</td>\n",
       "      <td>NaN</td>\n",
       "      <td>NaN</td>\n",
       "      <td>hatchback</td>\n",
       "      <td>white</td>\n",
       "      <td>wy</td>\n",
       "    </tr>\n",
       "    <tr>\n",
       "      <th>426878</th>\n",
       "      <td>7301591140</td>\n",
       "      <td>wyoming</td>\n",
       "      <td>28990</td>\n",
       "      <td>2018.0</td>\n",
       "      <td>lexus</td>\n",
       "      <td>es 350 sedan 4d</td>\n",
       "      <td>good</td>\n",
       "      <td>6 cylinders</td>\n",
       "      <td>gas</td>\n",
       "      <td>30112.0</td>\n",
       "      <td>clean</td>\n",
       "      <td>other</td>\n",
       "      <td>58ABK1GG4JU103853</td>\n",
       "      <td>fwd</td>\n",
       "      <td>NaN</td>\n",
       "      <td>sedan</td>\n",
       "      <td>silver</td>\n",
       "      <td>wy</td>\n",
       "    </tr>\n",
       "    <tr>\n",
       "      <th>426879</th>\n",
       "      <td>7301591129</td>\n",
       "      <td>wyoming</td>\n",
       "      <td>30590</td>\n",
       "      <td>2019.0</td>\n",
       "      <td>bmw</td>\n",
       "      <td>4 series 430i gran coupe</td>\n",
       "      <td>good</td>\n",
       "      <td>NaN</td>\n",
       "      <td>gas</td>\n",
       "      <td>22716.0</td>\n",
       "      <td>clean</td>\n",
       "      <td>other</td>\n",
       "      <td>WBA4J1C58KBM14708</td>\n",
       "      <td>rwd</td>\n",
       "      <td>NaN</td>\n",
       "      <td>coupe</td>\n",
       "      <td>NaN</td>\n",
       "      <td>wy</td>\n",
       "    </tr>\n",
       "  </tbody>\n",
       "</table>\n",
       "</div>"
      ],
      "text/plain": [
       "                id   region  price    year manufacturer  \\\n",
       "426875  7301591192  wyoming  23590  2019.0       nissan   \n",
       "426876  7301591187  wyoming  30590  2020.0        volvo   \n",
       "426877  7301591147  wyoming  34990  2020.0     cadillac   \n",
       "426878  7301591140  wyoming  28990  2018.0        lexus   \n",
       "426879  7301591129  wyoming  30590  2019.0          bmw   \n",
       "\n",
       "                           model condition    cylinders    fuel  odometer  \\\n",
       "426875         maxima s sedan 4d      good  6 cylinders     gas   32226.0   \n",
       "426876  s60 t5 momentum sedan 4d      good          NaN     gas   12029.0   \n",
       "426877          xt4 sport suv 4d      good          NaN  diesel    4174.0   \n",
       "426878           es 350 sedan 4d      good  6 cylinders     gas   30112.0   \n",
       "426879  4 series 430i gran coupe      good          NaN     gas   22716.0   \n",
       "\n",
       "       title_status transmission                VIN drive size       type  \\\n",
       "426875        clean        other  1N4AA6AV6KC367801   fwd  NaN      sedan   \n",
       "426876        clean        other  7JR102FKXLG042696   fwd  NaN      sedan   \n",
       "426877        clean        other  1GYFZFR46LF088296   NaN  NaN  hatchback   \n",
       "426878        clean        other  58ABK1GG4JU103853   fwd  NaN      sedan   \n",
       "426879        clean        other  WBA4J1C58KBM14708   rwd  NaN      coupe   \n",
       "\n",
       "       paint_color state  \n",
       "426875         NaN    wy  \n",
       "426876         red    wy  \n",
       "426877       white    wy  \n",
       "426878      silver    wy  \n",
       "426879         NaN    wy  "
      ]
     },
     "execution_count": 6,
     "metadata": {},
     "output_type": "execute_result"
    }
   ],
   "source": [
    "# Explore & Verify data\n",
    "data.tail()"
   ]
  },
  {
   "cell_type": "code",
   "execution_count": 7,
   "metadata": {},
   "outputs": [
    {
     "data": {
      "text/plain": [
       "id                   0\n",
       "region               0\n",
       "price                0\n",
       "year              1205\n",
       "manufacturer     17646\n",
       "model             5277\n",
       "condition       174104\n",
       "cylinders       177678\n",
       "fuel              3013\n",
       "odometer          4400\n",
       "title_status      8242\n",
       "transmission      2556\n",
       "VIN             161042\n",
       "drive           130567\n",
       "size            306361\n",
       "type             92858\n",
       "paint_color     130203\n",
       "state                0\n",
       "dtype: int64"
      ]
     },
     "execution_count": 7,
     "metadata": {},
     "output_type": "execute_result"
    }
   ],
   "source": [
    "# Explore & Verify data\n",
    "#Find null value count for each column\n",
    "data.isnull().sum()\n",
    "#"
   ]
  },
  {
   "cell_type": "code",
   "execution_count": 8,
   "metadata": {},
   "outputs": [
    {
     "data": {
      "text/plain": [
       "0         14\n",
       "1         14\n",
       "2         14\n",
       "3         14\n",
       "4         14\n",
       "          ..\n",
       "426875     2\n",
       "426876     2\n",
       "426877     3\n",
       "426878     1\n",
       "426879     3\n",
       "Length: 426880, dtype: int64"
      ]
     },
     "execution_count": 8,
     "metadata": {},
     "output_type": "execute_result"
    }
   ],
   "source": [
    "# Explore data\n",
    "#NaN values in every row\n",
    "data.isnull().sum(axis = 1)"
   ]
  },
  {
   "cell_type": "code",
   "execution_count": 9,
   "metadata": {},
   "outputs": [
    {
     "data": {
      "text/html": [
       "<div>\n",
       "<style scoped>\n",
       "    .dataframe tbody tr th:only-of-type {\n",
       "        vertical-align: middle;\n",
       "    }\n",
       "\n",
       "    .dataframe tbody tr th {\n",
       "        vertical-align: top;\n",
       "    }\n",
       "\n",
       "    .dataframe thead th {\n",
       "        text-align: right;\n",
       "    }\n",
       "</style>\n",
       "<table border=\"1\" class=\"dataframe\">\n",
       "  <thead>\n",
       "    <tr style=\"text-align: right;\">\n",
       "      <th></th>\n",
       "      <th>id</th>\n",
       "      <th>price</th>\n",
       "      <th>year</th>\n",
       "      <th>odometer</th>\n",
       "    </tr>\n",
       "  </thead>\n",
       "  <tbody>\n",
       "    <tr>\n",
       "      <th>count</th>\n",
       "      <td>4.268800e+05</td>\n",
       "      <td>4.268800e+05</td>\n",
       "      <td>425675.000000</td>\n",
       "      <td>4.224800e+05</td>\n",
       "    </tr>\n",
       "    <tr>\n",
       "      <th>mean</th>\n",
       "      <td>7.311487e+09</td>\n",
       "      <td>7.519903e+04</td>\n",
       "      <td>2011.235191</td>\n",
       "      <td>9.804333e+04</td>\n",
       "    </tr>\n",
       "    <tr>\n",
       "      <th>std</th>\n",
       "      <td>4.473170e+06</td>\n",
       "      <td>1.218228e+07</td>\n",
       "      <td>9.452120</td>\n",
       "      <td>2.138815e+05</td>\n",
       "    </tr>\n",
       "    <tr>\n",
       "      <th>min</th>\n",
       "      <td>7.207408e+09</td>\n",
       "      <td>0.000000e+00</td>\n",
       "      <td>1900.000000</td>\n",
       "      <td>0.000000e+00</td>\n",
       "    </tr>\n",
       "    <tr>\n",
       "      <th>25%</th>\n",
       "      <td>7.308143e+09</td>\n",
       "      <td>5.900000e+03</td>\n",
       "      <td>2008.000000</td>\n",
       "      <td>3.770400e+04</td>\n",
       "    </tr>\n",
       "    <tr>\n",
       "      <th>50%</th>\n",
       "      <td>7.312621e+09</td>\n",
       "      <td>1.395000e+04</td>\n",
       "      <td>2013.000000</td>\n",
       "      <td>8.554800e+04</td>\n",
       "    </tr>\n",
       "    <tr>\n",
       "      <th>75%</th>\n",
       "      <td>7.315254e+09</td>\n",
       "      <td>2.648575e+04</td>\n",
       "      <td>2017.000000</td>\n",
       "      <td>1.335425e+05</td>\n",
       "    </tr>\n",
       "    <tr>\n",
       "      <th>max</th>\n",
       "      <td>7.317101e+09</td>\n",
       "      <td>3.736929e+09</td>\n",
       "      <td>2022.000000</td>\n",
       "      <td>1.000000e+07</td>\n",
       "    </tr>\n",
       "  </tbody>\n",
       "</table>\n",
       "</div>"
      ],
      "text/plain": [
       "                 id         price           year      odometer\n",
       "count  4.268800e+05  4.268800e+05  425675.000000  4.224800e+05\n",
       "mean   7.311487e+09  7.519903e+04    2011.235191  9.804333e+04\n",
       "std    4.473170e+06  1.218228e+07       9.452120  2.138815e+05\n",
       "min    7.207408e+09  0.000000e+00    1900.000000  0.000000e+00\n",
       "25%    7.308143e+09  5.900000e+03    2008.000000  3.770400e+04\n",
       "50%    7.312621e+09  1.395000e+04    2013.000000  8.554800e+04\n",
       "75%    7.315254e+09  2.648575e+04    2017.000000  1.335425e+05\n",
       "max    7.317101e+09  3.736929e+09    2022.000000  1.000000e+07"
      ]
     },
     "execution_count": 9,
     "metadata": {},
     "output_type": "execute_result"
    }
   ],
   "source": [
    "# Describe data\n",
    "data.describe()"
   ]
  },
  {
   "cell_type": "code",
   "execution_count": 10,
   "metadata": {},
   "outputs": [
    {
     "data": {
      "text/html": [
       "<div>\n",
       "<style scoped>\n",
       "    .dataframe tbody tr th:only-of-type {\n",
       "        vertical-align: middle;\n",
       "    }\n",
       "\n",
       "    .dataframe tbody tr th {\n",
       "        vertical-align: top;\n",
       "    }\n",
       "\n",
       "    .dataframe thead th {\n",
       "        text-align: right;\n",
       "    }\n",
       "</style>\n",
       "<table border=\"1\" class=\"dataframe\">\n",
       "  <thead>\n",
       "    <tr style=\"text-align: right;\">\n",
       "      <th></th>\n",
       "      <th>region</th>\n",
       "      <th>manufacturer</th>\n",
       "      <th>model</th>\n",
       "      <th>condition</th>\n",
       "      <th>cylinders</th>\n",
       "      <th>fuel</th>\n",
       "      <th>title_status</th>\n",
       "      <th>transmission</th>\n",
       "      <th>VIN</th>\n",
       "      <th>drive</th>\n",
       "      <th>size</th>\n",
       "      <th>type</th>\n",
       "      <th>paint_color</th>\n",
       "      <th>state</th>\n",
       "    </tr>\n",
       "  </thead>\n",
       "  <tbody>\n",
       "    <tr>\n",
       "      <th>count</th>\n",
       "      <td>426880</td>\n",
       "      <td>409234</td>\n",
       "      <td>421603</td>\n",
       "      <td>252776</td>\n",
       "      <td>249202</td>\n",
       "      <td>423867</td>\n",
       "      <td>418638</td>\n",
       "      <td>424324</td>\n",
       "      <td>265838</td>\n",
       "      <td>296313</td>\n",
       "      <td>120519</td>\n",
       "      <td>334022</td>\n",
       "      <td>296677</td>\n",
       "      <td>426880</td>\n",
       "    </tr>\n",
       "    <tr>\n",
       "      <th>unique</th>\n",
       "      <td>404</td>\n",
       "      <td>42</td>\n",
       "      <td>29649</td>\n",
       "      <td>6</td>\n",
       "      <td>8</td>\n",
       "      <td>5</td>\n",
       "      <td>6</td>\n",
       "      <td>3</td>\n",
       "      <td>118246</td>\n",
       "      <td>3</td>\n",
       "      <td>4</td>\n",
       "      <td>13</td>\n",
       "      <td>12</td>\n",
       "      <td>51</td>\n",
       "    </tr>\n",
       "    <tr>\n",
       "      <th>top</th>\n",
       "      <td>columbus</td>\n",
       "      <td>ford</td>\n",
       "      <td>f-150</td>\n",
       "      <td>good</td>\n",
       "      <td>6 cylinders</td>\n",
       "      <td>gas</td>\n",
       "      <td>clean</td>\n",
       "      <td>automatic</td>\n",
       "      <td>1FMJU1JT1HEA52352</td>\n",
       "      <td>4wd</td>\n",
       "      <td>full-size</td>\n",
       "      <td>sedan</td>\n",
       "      <td>white</td>\n",
       "      <td>ca</td>\n",
       "    </tr>\n",
       "    <tr>\n",
       "      <th>freq</th>\n",
       "      <td>3608</td>\n",
       "      <td>70985</td>\n",
       "      <td>8009</td>\n",
       "      <td>121456</td>\n",
       "      <td>94169</td>\n",
       "      <td>356209</td>\n",
       "      <td>405117</td>\n",
       "      <td>336524</td>\n",
       "      <td>261</td>\n",
       "      <td>131904</td>\n",
       "      <td>63465</td>\n",
       "      <td>87056</td>\n",
       "      <td>79285</td>\n",
       "      <td>50614</td>\n",
       "    </tr>\n",
       "  </tbody>\n",
       "</table>\n",
       "</div>"
      ],
      "text/plain": [
       "          region manufacturer   model condition    cylinders    fuel  \\\n",
       "count     426880       409234  421603    252776       249202  423867   \n",
       "unique       404           42   29649         6            8       5   \n",
       "top     columbus         ford   f-150      good  6 cylinders     gas   \n",
       "freq        3608        70985    8009    121456        94169  356209   \n",
       "\n",
       "       title_status transmission                VIN   drive       size  \\\n",
       "count        418638       424324             265838  296313     120519   \n",
       "unique            6            3             118246       3          4   \n",
       "top           clean    automatic  1FMJU1JT1HEA52352     4wd  full-size   \n",
       "freq         405117       336524                261  131904      63465   \n",
       "\n",
       "          type paint_color   state  \n",
       "count   334022      296677  426880  \n",
       "unique      13          12      51  \n",
       "top      sedan       white      ca  \n",
       "freq     87056       79285   50614  "
      ]
     },
     "execution_count": 10,
     "metadata": {},
     "output_type": "execute_result"
    }
   ],
   "source": [
    "# Describe data\n",
    "data.describe(include = ['object'])"
   ]
  },
  {
   "attachments": {},
   "cell_type": "markdown",
   "metadata": {},
   "source": [
    "Data Visulization"
   ]
  },
  {
   "cell_type": "code",
   "execution_count": 11,
   "metadata": {},
   "outputs": [
    {
     "data": {
      "image/png": "[encoded data removed]",
      "text/plain": [
       "<Figure size 648x648 with 2 Axes>"
      ]
     },
     "metadata": {
      "needs_background": "light"
     },
     "output_type": "display_data"
    }
   ],
   "source": [
    "#Describe data and visualize it\n",
    "data.corr()\n",
    "plt.figure(figsize=(9,9))\n",
    "sns.heatmap(data.corr(), annot=True)\n",
    "plt.title('Correlation between the features including price')\n",
    "plt.show()"
   ]
  },
  {
   "cell_type": "code",
   "execution_count": 12,
   "metadata": {},
   "outputs": [
    {
     "data": {
      "image/png": "[encoded data removed]",
      "text/plain": [
       "<Figure size 720x1440 with 2 Axes>"
      ]
     },
     "metadata": {
      "needs_background": "light"
     },
     "output_type": "display_data"
    }
   ],
   "source": [
    "#Visualize numeric data\n",
    "def scatter(x,fig):\n",
    "    plt.subplot(5,2,fig)\n",
    "    plt.scatter(data[x],data['price'])\n",
    "    plt.title(x+' vs Price')\n",
    "    plt.ylabel('Price')\n",
    "    plt.xlabel(x)\n",
    "\n",
    "plt.figure(figsize=(10,20))\n",
    "\n",
    "scatter('year', 1)\n",
    "scatter('odometer', 2)\n",
    "\n",
    "\n",
    "plt.tight_layout()"
   ]
  },
  {
   "cell_type": "code",
   "execution_count": 13,
   "metadata": {},
   "outputs": [
    {
     "data": {
      "image/png": "[encoded data removed]",
      "text/plain": [
       "<Figure size 1440x576 with 2 Axes>"
      ]
     },
     "metadata": {
      "needs_background": "light"
     },
     "output_type": "display_data"
    },
    {
     "data": {
      "image/png": "[encoded data removed]",
      "text/plain": [
       "<Figure size 576x432 with 1 Axes>"
      ]
     },
     "metadata": {
      "needs_background": "light"
     },
     "output_type": "display_data"
    }
   ],
   "source": [
    "#Describe data and visualize it\n",
    "\n",
    "plt.figure(figsize=(20,8))\n",
    "\n",
    "plt.subplot(1,2,1)\n",
    "plt.title('Car Type Histogram')\n",
    "sns.countplot(data['type'], palette=(\"Blues_d\"))\n",
    "\n",
    "plt.subplot(1,2,2)\n",
    "plt.title('Car Type vs Price')\n",
    "sns.boxplot(x=data['type'], y=data['price'], palette=(\"PuBuGn\"))\n",
    "\n",
    "df = pd.DataFrame(data.groupby(['type'])['price'].mean().sort_values(ascending = False))\n",
    "df.plot.bar(figsize=(8,6))\n",
    "plt.title('Car Type vs Average Price')\n",
    "plt.show()"
   ]
  },
  {
   "attachments": {},
   "cell_type": "markdown",
   "metadata": {},
   "source": [
    "Inference:\n",
    "* Sendan type car are the most sold used cars but fetch lower avg price\n",
    "* SUV is second most sold car fetches medium average price\n",
    "* Pickup car fetches highest average price"
   ]
  },
  {
   "cell_type": "code",
   "execution_count": 14,
   "metadata": {},
   "outputs": [
    {
     "data": {
      "text/plain": [
       "<Figure size 3600x1800 with 0 Axes>"
      ]
     },
     "metadata": {},
     "output_type": "display_data"
    },
    {
     "data": {
      "image/png": "[encoded data removed]",
      "text/plain": [
       "<Figure size 432x288 with 1 Axes>"
      ]
     },
     "metadata": {
      "needs_background": "light"
     },
     "output_type": "display_data"
    }
   ],
   "source": [
    "#Describe data and visualize it\n",
    "\n",
    "plt.figure(figsize=(50, 25))\n",
    "\n",
    "df = pd.DataFrame(data.groupby(['manufacturer'])['price'].mean().sort_values(ascending = False))\n",
    "df.plot.bar()\n",
    "plt.title('Car manufacturer vs Average Price')\n",
    "plt.show()\n",
    "\n",
    "# The below model plot take a lot of time due to font type issue tried to fix it by explicitly setting it but didn't work\n",
    "#axis_font = {'fontname':'Arial', 'size':'14'}\n",
    "#df = pd.DataFrame(data.groupby(['model'])['price'].mean().sort_values(ascending = False))\n",
    "#df.plot.bar()\n",
    "#plt.title('Car model  vs Average Price')\n",
    "#plt.xlabel(\"x axis\", **axis_font)\n",
    "#plt.ylabel(\"y axis\", **axis_font)\n",
    "#plt.show()\n",
    "\n"
   ]
  },
  {
   "attachments": {},
   "cell_type": "markdown",
   "metadata": {},
   "source": [
    "Inference:\n",
    "* Used Mercededes Benz followed by Volvo fetches the higest price\n",
    "* I couldn't plot model column as it take a lot of time due to font type issue. I tried to fix it by explicitly setting it but didn't work"
   ]
  },
  {
   "cell_type": "code",
   "execution_count": 15,
   "metadata": {},
   "outputs": [
    {
     "data": {
      "image/png": "[encoded data removed]",
      "text/plain": [
       "<Figure size 1440x576 with 1 Axes>"
      ]
     },
     "metadata": {
      "needs_background": "light"
     },
     "output_type": "display_data"
    },
    {
     "data": {
      "image/png": "[encoded data removed]",
      "text/plain": [
       "<Figure size 432x288 with 1 Axes>"
      ]
     },
     "metadata": {
      "needs_background": "light"
     },
     "output_type": "display_data"
    },
    {
     "data": {
      "image/png": "[encoded data removed]",
      "text/plain": [
       "<Figure size 1440x576 with 1 Axes>"
      ]
     },
     "metadata": {
      "needs_background": "light"
     },
     "output_type": "display_data"
    },
    {
     "data": {
      "text/plain": [
       "<Figure size 1440x576 with 0 Axes>"
      ]
     },
     "metadata": {},
     "output_type": "display_data"
    },
    {
     "data": {
      "image/png": "[encoded data removed]",
      "text/plain": [
       "<Figure size 432x288 with 1 Axes>"
      ]
     },
     "metadata": {
      "needs_background": "light"
     },
     "output_type": "display_data"
    },
    {
     "data": {
      "image/png": "[encoded data removed]",
      "text/plain": [
       "<Figure size 1440x576 with 1 Axes>"
      ]
     },
     "metadata": {
      "needs_background": "light"
     },
     "output_type": "display_data"
    },
    {
     "data": {
      "image/png": "[encoded data removed]",
      "text/plain": [
       "<Figure size 432x288 with 1 Axes>"
      ]
     },
     "metadata": {
      "needs_background": "light"
     },
     "output_type": "display_data"
    },
    {
     "data": {
      "image/png": "[encoded data removed]",
      "text/plain": [
       "<Figure size 1440x576 with 1 Axes>"
      ]
     },
     "metadata": {
      "needs_background": "light"
     },
     "output_type": "display_data"
    },
    {
     "data": {
      "image/png": "[encoded data removed]",
      "text/plain": [
       "<Figure size 432x288 with 1 Axes>"
      ]
     },
     "metadata": {
      "needs_background": "light"
     },
     "output_type": "display_data"
    }
   ],
   "source": [
    "\n",
    "plt.figure(figsize=(20,8))\n",
    "\n",
    "plt.subplot(1,2,1)\n",
    "plt.title('User car fuel type Histogram')\n",
    "sns.countplot(data['fuel'],palette=(\"magma\"))\n",
    "df = pd.DataFrame(data.groupby(['fuel'])['price'].mean().sort_values(ascending = False))\n",
    "df.plot.bar()\n",
    "plt.title('Fuel Type vs Average Price')\n",
    "plt.show()\n",
    "\n",
    "plt.figure(figsize=(20,8))\n",
    "plt.subplot(1,2,1)\n",
    "plt.title('User car size Histogram')\n",
    "sns.countplot(data['size'], palette=(\"deep\"))\n",
    "\n",
    "plt.figure(figsize=(20,8))\n",
    "df = pd.DataFrame(data.groupby(['size'])['price'].mean().sort_values(ascending = False))\n",
    "df.plot.bar()\n",
    "plt.title('Car Size  vs Average Price')\n",
    "plt.show()\n",
    "\n",
    "plt.figure(figsize=(20,8))\n",
    "plt.subplot(1,2,1)\n",
    "plt.title('User car condition Histogram')\n",
    "sns.countplot(data['condition'], palette=(\"muted\"))\n",
    "\n",
    "df = pd.DataFrame(data.groupby(['condition'])['price'].mean().sort_values(ascending = False))\n",
    "df.plot.bar()\n",
    "plt.title('Car condition  vs Average Price')\n",
    "plt.show()\n",
    "plt.figure(figsize=(20,8))\n",
    "\n",
    "plt.subplot(1,2,1)\n",
    "plt.title('User car title status Histogram')\n",
    "sns.countplot(data['title_status'], palette=(\"pastel\"))\n",
    "\n",
    "df = pd.DataFrame(data.groupby(['title_status'])['price'].mean().sort_values(ascending = False))\n",
    "df.plot.bar()\n",
    "plt.title('Car title status  vs Average Price')\n",
    "plt.show()"
   ]
  },
  {
   "attachments": {},
   "cell_type": "markdown",
   "metadata": {},
   "source": [
    "Inference:\n",
    "* Diesel vehical fetches higher average price than gas, however gas vehicles are the most sold.\n",
    "* Mid-size vehical fetches higher average price\n",
    "* Fair condition car fetches higher average price, however good followed by excellent condition vehicles are sold more\n",
    "* Clean title status fetches higher average price, I was surpriced to see even missing title status vehicle get reasonable average price"
   ]
  },
  {
   "cell_type": "code",
   "execution_count": 16,
   "metadata": {},
   "outputs": [
    {
     "data": {
      "image/png": "[encoded data removed]",
      "text/plain": [
       "<Figure size 432x288 with 1 Axes>"
      ]
     },
     "metadata": {
      "needs_background": "light"
     },
     "output_type": "display_data"
    },
    {
     "data": {
      "image/png": "[encoded data removed]",
      "text/plain": [
       "<Figure size 432x288 with 1 Axes>"
      ]
     },
     "metadata": {
      "needs_background": "light"
     },
     "output_type": "display_data"
    },
    {
     "data": {
      "image/png": "[encoded data removed]",
      "text/plain": [
       "<Figure size 432x288 with 1 Axes>"
      ]
     },
     "metadata": {
      "needs_background": "light"
     },
     "output_type": "display_data"
    },
    {
     "data": {
      "image/png": "[encoded data removed]",
      "text/plain": [
       "<Figure size 432x288 with 1 Axes>"
      ]
     },
     "metadata": {
      "needs_background": "light"
     },
     "output_type": "display_data"
    },
    {
     "data": {
      "text/plain": [
       "<AxesSubplot:title={'center':'User car paint_color Histogram'}, xlabel='paint_color', ylabel='count'>"
      ]
     },
     "execution_count": 16,
     "metadata": {},
     "output_type": "execute_result"
    },
    {
     "data": {
      "image/png": "[encoded data removed]",
      "text/plain": [
       "<Figure size 1440x576 with 1 Axes>"
      ]
     },
     "metadata": {
      "needs_background": "light"
     },
     "output_type": "display_data"
    }
   ],
   "source": [
    "# Visulization of not so important feartures\n",
    "df = pd.DataFrame(data.groupby(['cylinders'])['price'].mean().sort_values(ascending = False))\n",
    "df.plot.bar()\n",
    "plt.title('Vehicle cylinders  vs Average Price')\n",
    "plt.show()\n",
    "df = pd.DataFrame(data.groupby(['drive'])['price'].mean().sort_values(ascending = False))\n",
    "df.plot.bar()\n",
    "plt.title('Vehicle drive type vs Average Price')\n",
    "plt.show()\n",
    "df = pd.DataFrame(data.groupby(['drive'])['price'].mean().sort_values(ascending = False))\n",
    "df.plot.bar()\n",
    "plt.title('Vehicle drive type vs Average Price')\n",
    "plt.show()\n",
    "df = pd.DataFrame(data.groupby(['paint_color'])['price'].mean().sort_values(ascending = False))\n",
    "df.plot.bar()\n",
    "plt.title('Vehicle paint color vs Average Price')\n",
    "plt.show()\n",
    "plt.figure(figsize=(20,8))\n",
    "\n",
    "plt.subplot(1,2,1)\n",
    "plt.title('User car paint_color Histogram')\n",
    "sns.countplot(data['paint_color'], palette=(\"pastel\"))\n"
   ]
  },
  {
   "attachments": {},
   "cell_type": "markdown",
   "metadata": {},
   "source": [
    "Inference:\n",
    "* 8 cylinders vehicles fetch higger average price\n",
    "* 4wd drive vehicles fetch higger average price\n",
    "* Green color vehicles followed by silver fetch higger average price, however white color followed by black and silver are most sold vehicles. "
   ]
  },
  {
   "cell_type": "code",
   "execution_count": 17,
   "metadata": {},
   "outputs": [
    {
     "name": "stdout",
     "output_type": "stream",
     "text": [
      "drive [nan 'rwd' '4wd' 'fwd']\n",
      "type [nan 'pickup' 'truck' 'other' 'coupe' 'SUV' 'hatchback' 'mini-van' 'sedan'\n",
      " 'offroad' 'bus' 'van' 'convertible' 'wagon']\n",
      "paint_color [nan 'white' 'blue' 'red' 'black' 'silver' 'grey' 'brown' 'yellow'\n",
      " 'orange' 'green' 'custom' 'purple']\n",
      "transmission [nan 'other' 'automatic' 'manual']\n",
      "title_status [nan 'clean' 'rebuilt' 'lien' 'salvage' 'missing' 'parts only']\n",
      "fuel [nan 'gas' 'other' 'diesel' 'hybrid' 'electric']\n",
      "condition [nan 'good' 'excellent' 'fair' 'like new' 'new' 'salvage']\n",
      "cylinders [nan '8 cylinders' '6 cylinders' '4 cylinders' '5 cylinders' 'other'\n",
      " '3 cylinders' '10 cylinders' '12 cylinders']\n"
     ]
    }
   ],
   "source": [
    "# Describe and explore data\n",
    "print('drive',data['drive'].unique())\n",
    "print('type',data['type'].unique())\n",
    "print('paint_color',data['paint_color'].unique())\n",
    "print('transmission',data['transmission'].unique())\n",
    "print('title_status',data['title_status'].unique())\n",
    "print('fuel',data['fuel'].unique())\n",
    "print('condition',data['condition'].unique())\n",
    "print('cylinders',data['cylinders'].unique())\n",
    "\n"
   ]
  },
  {
   "cell_type": "code",
   "execution_count": 18,
   "metadata": {},
   "outputs": [
    {
     "name": "stdout",
     "output_type": "stream",
     "text": [
      "manufacturer [nan 'gmc' 'chevrolet' 'toyota' 'ford' 'jeep' 'nissan' 'ram' 'mazda'\n",
      " 'cadillac' 'honda' 'dodge' 'lexus' 'jaguar' 'buick' 'chrysler' 'volvo'\n",
      " 'audi' 'infiniti' 'lincoln' 'alfa-romeo' 'subaru' 'acura' 'hyundai'\n",
      " 'mercedes-benz' 'bmw' 'mitsubishi' 'volkswagen' 'porsche' 'kia' 'rover'\n",
      " 'ferrari' 'mini' 'pontiac' 'fiat' 'tesla' 'saturn' 'mercury'\n",
      " 'harley-davidson' 'datsun' 'aston-martin' 'land rover' 'morgan']\n",
      "size [nan 'full-size' 'mid-size' 'compact' 'sub-compact']\n",
      "region ['prescott' 'fayetteville' 'florida keys' 'worcester / central MA'\n",
      " 'greensboro' 'hudson valley' 'medford-ashland' 'erie' 'el paso'\n",
      " 'bellingham' 'skagit / island / SJI' 'la crosse' 'auburn' 'birmingham'\n",
      " 'dothan' 'florence / muscle shoals' 'gadsden-anniston'\n",
      " 'huntsville / decatur' 'mobile' 'montgomery' 'tuscaloosa'\n",
      " 'anchorage / mat-su' 'fairbanks' 'kenai peninsula' 'southeast alaska'\n",
      " 'flagstaff / sedona' 'mohave county' 'phoenix' 'show low' 'sierra vista'\n",
      " 'tucson' 'yuma' 'fort smith' 'jonesboro' 'little rock' 'texarkana'\n",
      " 'bakersfield' 'chico' 'fresno / madera' 'gold country' 'hanford-corcoran'\n",
      " 'humboldt county' 'imperial county' 'inland empire' 'los angeles'\n",
      " 'mendocino county' 'merced' 'modesto' 'monterey bay' 'orange county'\n",
      " 'palm springs' 'redding' 'reno / tahoe' 'sacramento' 'san diego'\n",
      " 'san luis obispo' 'santa barbara' 'santa maria' 'SF bay area'\n",
      " 'siskiyou county' 'stockton' 'susanville' 'ventura county'\n",
      " 'visalia-tulare' 'yuba-sutter' 'boulder' 'colorado springs' 'denver'\n",
      " 'eastern CO' 'fort collins / north CO' 'high rockies' 'pueblo'\n",
      " 'western slope' 'eastern CT' 'hartford' 'new haven' 'northwest CT'\n",
      " 'washington, DC' 'delaware' 'daytona beach' 'ft myers / SW florida'\n",
      " 'gainesville' 'heartland florida' 'jacksonville' 'lakeland'\n",
      " 'north central FL' 'ocala' 'okaloosa / walton' 'orlando' 'panama city'\n",
      " 'pensacola' 'sarasota-bradenton' 'south florida' 'space coast'\n",
      " 'st augustine' 'tallahassee' 'tampa bay area' 'treasure coast' 'albany'\n",
      " 'athens' 'atlanta' 'augusta' 'brunswick' 'columbus'\n",
      " 'macon / warner robins' 'northwest GA' 'savannah / hinesville'\n",
      " 'statesboro' 'valdosta' 'hawaii' 'boise' 'east idaho'\n",
      " 'lewiston / clarkston' 'pullman / moscow' \"spokane / coeur d'alene\"\n",
      " 'twin falls' 'bloomington-normal' 'champaign urbana' 'chicago' 'decatur'\n",
      " 'la salle co' 'mattoon-charleston' 'peoria' 'quad cities, IA/IL'\n",
      " 'rockford' 'southern illinois' 'springfield' 'st louis, MO' 'western IL'\n",
      " 'bloomington' 'evansville' 'fort wayne' 'indianapolis' 'kokomo'\n",
      " 'lafayette / west lafayette' 'muncie / anderson' 'richmond'\n",
      " 'south bend / michiana' 'terre haute' 'ames' 'cedar rapids' 'des moines'\n",
      " 'dubuque' 'fort dodge' 'iowa city' 'mason city' 'omaha / council bluffs'\n",
      " 'sioux city' 'southeast IA' 'waterloo / cedar falls' 'kansas city, MO'\n",
      " 'lawrence' 'manhattan' 'northwest KS' 'salina' 'southeast KS'\n",
      " 'southwest KS' 'topeka' 'wichita' 'bowling green' 'eastern kentucky'\n",
      " 'huntington-ashland' 'lexington' 'louisville' 'owensboro' 'western KY'\n",
      " 'baton rouge' 'central louisiana' 'houma' 'lafayette' 'lake charles'\n",
      " 'monroe' 'new orleans' 'shreveport' 'maine' 'annapolis' 'baltimore'\n",
      " 'cumberland valley' 'eastern shore' 'frederick' 'southern maryland'\n",
      " 'western maryland' 'boston' 'cape cod / islands' 'south coast'\n",
      " 'western massachusetts' 'ann arbor' 'battle creek' 'central michigan'\n",
      " 'detroit metro' 'flint' 'grand rapids' 'holland' 'jackson' 'kalamazoo'\n",
      " 'lansing' 'muskegon' 'northern michigan' 'port huron'\n",
      " 'saginaw-midland-baycity' 'southwest michigan' 'the thumb'\n",
      " 'upper peninsula' 'bemidji' 'brainerd' 'duluth / superior'\n",
      " 'fargo / moorhead' 'mankato' 'minneapolis / st paul' 'rochester'\n",
      " 'southwest MN' 'st cloud' 'gulfport / biloxi' 'hattiesburg' 'meridian'\n",
      " 'north mississippi' 'southwest MS' 'columbia / jeff city' 'joplin'\n",
      " 'kansas city' 'kirksville' 'lake of the ozarks' 'southeast missouri'\n",
      " 'st joseph' 'st louis' 'billings' 'bozeman' 'butte' 'eastern montana'\n",
      " 'great falls' 'helena' 'kalispell' 'missoula' 'asheville' 'boone'\n",
      " 'charlotte' 'eastern NC' 'hickory / lenoir' 'outer banks'\n",
      " 'raleigh / durham / CH' 'wilmington' 'winston-salem' 'grand island'\n",
      " 'lincoln' 'north platte' 'scottsbluff / panhandle' 'elko' 'las vegas'\n",
      " 'central NJ' 'jersey shore' 'north jersey' 'south jersey' 'albuquerque'\n",
      " 'clovis / portales' 'farmington' 'las cruces' 'roswell / carlsbad'\n",
      " 'santa fe / taos' 'binghamton' 'buffalo' 'catskills' 'chautauqua'\n",
      " 'elmira-corning' 'finger lakes' 'glens falls' 'ithaca' 'long island'\n",
      " 'new york city' 'oneonta' 'plattsburgh-adirondacks'\n",
      " 'potsdam-canton-massena' 'syracuse' 'twin tiers NY/PA'\n",
      " 'utica-rome-oneida' 'watertown' 'new hampshire' 'bismarck' 'grand forks'\n",
      " 'north dakota' 'akron / canton' 'ashtabula' 'chillicothe' 'cincinnati'\n",
      " 'cleveland' 'dayton / springfield' 'lima / findlay' 'mansfield'\n",
      " 'northern panhandle' 'parkersburg-marietta' 'sandusky' 'toledo'\n",
      " 'tuscarawas co' 'youngstown' 'zanesville / cambridge' 'fort smith, AR'\n",
      " 'lawton' 'northwest OK' 'oklahoma city' 'stillwater' 'texoma' 'tulsa'\n",
      " 'bend' 'corvallis/albany' 'east oregon' 'eugene' 'klamath falls'\n",
      " 'oregon coast' 'portland' 'roseburg' 'salem' 'altoona-johnstown'\n",
      " 'harrisburg' 'lancaster' 'lehigh valley' 'meadville' 'philadelphia'\n",
      " 'pittsburgh' 'poconos' 'reading' 'scranton / wilkes-barre'\n",
      " 'state college' 'williamsport' 'york' 'rhode island' 'charleston'\n",
      " 'columbia' 'florence' 'greenville / upstate' 'hilton head' 'myrtle beach'\n",
      " 'northeast SD' 'pierre / central SD' 'rapid city / west SD'\n",
      " 'sioux falls / SE SD' 'south dakota' 'chattanooga' 'clarksville'\n",
      " 'cookeville' 'knoxville' 'memphis' 'nashville' 'tri-cities' 'abilene'\n",
      " 'amarillo' 'austin' 'beaumont / port arthur' 'brownsville'\n",
      " 'college station' 'corpus christi' 'dallas / fort worth'\n",
      " 'deep east texas' 'del rio / eagle pass' 'galveston' 'houston'\n",
      " 'killeen / temple / ft hood' 'laredo' 'lubbock' 'mcallen / edinburg'\n",
      " 'odessa / midland' 'san angelo' 'san antonio' 'san marcos' 'southwest TX'\n",
      " 'tyler / east TX' 'victoria' 'waco' 'wichita falls' 'logan'\n",
      " 'ogden-clearfield' 'provo / orem' 'salt lake city' 'st george' 'vermont'\n",
      " 'charlottesville' 'danville' 'fredericksburg' 'harrisonburg' 'lynchburg'\n",
      " 'new river valley' 'norfolk / hampton roads' 'roanoke' 'southwest VA'\n",
      " 'winchester' 'kennewick-pasco-richland' 'moses lake' 'olympic peninsula'\n",
      " 'seattle-tacoma' 'wenatchee' 'yakima' 'eastern panhandle' 'morgantown'\n",
      " 'southern WV' 'west virginia (old)' 'appleton-oshkosh-FDL' 'eau claire'\n",
      " 'green bay' 'janesville' 'kenosha-racine' 'madison' 'milwaukee'\n",
      " 'northern WI' 'sheboygan' 'wausau' 'wyoming']\n",
      "state ['az' 'ar' 'fl' 'ma' 'nc' 'ny' 'or' 'pa' 'tx' 'wa' 'wi' 'al' 'ak' 'ca'\n",
      " 'co' 'ct' 'dc' 'de' 'ga' 'hi' 'id' 'il' 'in' 'ia' 'ks' 'ky' 'la' 'me'\n",
      " 'md' 'mi' 'mn' 'ms' 'mo' 'mt' 'ne' 'nv' 'nj' 'nm' 'nh' 'nd' 'oh' 'ok'\n",
      " 'ri' 'sc' 'sd' 'tn' 'ut' 'vt' 'va' 'wv' 'wy']\n",
      "model [nan 'sierra 1500 crew cab slt' 'silverado 1500' ... 'gand wagoneer'\n",
      " '96 Suburban' 'Paige Glenbrook Touring']\n"
     ]
    }
   ],
   "source": [
    "#Describe and Explore data\n",
    "print('manufacturer',data['manufacturer'].unique())\n",
    "print('size',data['size'].unique())\n",
    "print('region',data['region'].unique())\n",
    "print('state',data['state'].unique())\n",
    "print('model',data['model'].unique())"
   ]
  },
  {
   "attachments": {},
   "cell_type": "markdown",
   "metadata": {},
   "source": [
    "### Data Preparation\n",
    "\n",
    "After my initial exploration and fine tuning of the business understanding, it is time to construct my final dataset prior to modeling with 'sklearn'.  Here, we want to make sure to handle any integrity issues and cleaning, the engineering of new features, any transformations that we believe should happen (scaling, logarithms, normalization, etc.), and general preparation for modeling with `sklearn`. "
   ]
  },
  {
   "attachments": {},
   "cell_type": "markdown",
   "metadata": {},
   "source": [
    "##### Select Data\n",
    "Rationale for Inclusion/Exclusion:\n",
    "* VIN number column has 161042 null value, also it dosen't add any value in determining the price of the use car hence this column should removed\n",
    "* I wanted to drop ID column and make price column as index however I found price column has dubplicates, decided to drop ID column as its not adding value to the solution of finding used car price\n",
    "* Performing dropna on the entire dataset drops 392012 records hence I decided not to use it on the entire dataset.\n",
    "##### Clean Data\n",
    "Data Cleaning Report:\n",
    "* Column id and VIN were dropped. Object column were converted to Int64 after visual analysis of the categorial column data\n",
    "##### Construct Data\n",
    "Derived Attributes:No new attribute were generated using the given dataset column however object value were convert to numeric equivalent category\n",
    "Generated Records:NA\n",
    "##### Integrate Data\n",
    "Merged Data: Merging is not needed for this assignment, there can be possibility of using it but I didn't have time to explore it.\n",
    "##### Format Data\n",
    "Reformatted Data: I used the LabelEncoder from sklearn.preprocessing to trasform Object columns to float and later converted float columns to Int64 using Pandas\n",
    "##### Dataset\n",
    "Dataset Description: The below columns were selected after data analysis and visulization\n",
    "|columns selected|\n",
    "|-------|\n",
    "|price|\n",
    "|year|\n",
    "|manufacturer|\n",
    "|condition|\n",
    "|cylinders|\n",
    "|fuel|\n",
    "|odometer|\n",
    "|title_status|\n",
    "|transmission|\n",
    "|drive|\n",
    "|size|\n",
    "|type|\n",
    "|paint_color|\n",
    "|state|\n",
    "|region|"
   ]
  },
  {
   "cell_type": "code",
   "execution_count": 19,
   "metadata": {},
   "outputs": [
    {
     "data": {
      "text/plain": [
       "True"
      ]
     },
     "execution_count": 19,
     "metadata": {},
     "output_type": "execute_result"
    }
   ],
   "source": [
    "#Explore data\n",
    "data.duplicated(subset=['price']).any() "
   ]
  },
  {
   "cell_type": "code",
   "execution_count": 20,
   "metadata": {},
   "outputs": [
    {
     "name": "stdout",
     "output_type": "stream",
     "text": [
      "count of record that will be drop 392012\n"
     ]
    }
   ],
   "source": [
    "# Explore data: find out what happens if all nulls in the dataset are dropped\n",
    "drop_data=pd.read_csv('../dataset/vehicles.csv')\n",
    "drop_data=drop_data.dropna(how='any')\n",
    "drop_data.shape\n",
    "print('count of record that will be drop', 426880-34868)"
   ]
  },
  {
   "cell_type": "code",
   "execution_count": 21,
   "metadata": {},
   "outputs": [
    {
     "data": {
      "text/plain": [
       "(79195, 16)"
      ]
     },
     "execution_count": 21,
     "metadata": {},
     "output_type": "execute_result"
    }
   ],
   "source": [
    "# Data cleaning and selection\n",
    "data = pd.read_csv('../dataset/vehicles.csv')\n",
    "data_new=data.copy()\n",
    "data_new.drop(columns = ['id', 'VIN'], inplace = True)\n",
    "data_new= data_new.dropna()\n",
    "data_new.reset_index()\n",
    "data_new.shape"
   ]
  },
  {
   "cell_type": "code",
   "execution_count": 22,
   "metadata": {},
   "outputs": [
    {
     "data": {
      "text/html": [
       "<div>\n",
       "<style scoped>\n",
       "    .dataframe tbody tr th:only-of-type {\n",
       "        vertical-align: middle;\n",
       "    }\n",
       "\n",
       "    .dataframe tbody tr th {\n",
       "        vertical-align: top;\n",
       "    }\n",
       "\n",
       "    .dataframe thead th {\n",
       "        text-align: right;\n",
       "    }\n",
       "</style>\n",
       "<table border=\"1\" class=\"dataframe\">\n",
       "  <thead>\n",
       "    <tr style=\"text-align: right;\">\n",
       "      <th></th>\n",
       "      <th>price</th>\n",
       "      <th>year</th>\n",
       "      <th>odometer</th>\n",
       "      <th>transmission</th>\n",
       "      <th>drive</th>\n",
       "      <th>title_status</th>\n",
       "      <th>fuel</th>\n",
       "      <th>condition</th>\n",
       "      <th>cylinders</th>\n",
       "      <th>size</th>\n",
       "      <th>type</th>\n",
       "      <th>state</th>\n",
       "      <th>model</th>\n",
       "      <th>manufacturer</th>\n",
       "      <th>region</th>\n",
       "      <th>paint_color</th>\n",
       "    </tr>\n",
       "  </thead>\n",
       "  <tbody>\n",
       "    <tr>\n",
       "      <th>31</th>\n",
       "      <td>15000</td>\n",
       "      <td>2013.0</td>\n",
       "      <td>128000.0</td>\n",
       "      <td>0</td>\n",
       "      <td>2</td>\n",
       "      <td>0</td>\n",
       "      <td>2</td>\n",
       "      <td>0</td>\n",
       "      <td>5</td>\n",
       "      <td>1</td>\n",
       "      <td>10</td>\n",
       "      <td>1</td>\n",
       "      <td>3868</td>\n",
       "      <td>13</td>\n",
       "      <td>16</td>\n",
       "      <td>0</td>\n",
       "    </tr>\n",
       "    <tr>\n",
       "      <th>55</th>\n",
       "      <td>19900</td>\n",
       "      <td>2004.0</td>\n",
       "      <td>88000.0</td>\n",
       "      <td>0</td>\n",
       "      <td>0</td>\n",
       "      <td>0</td>\n",
       "      <td>0</td>\n",
       "      <td>2</td>\n",
       "      <td>6</td>\n",
       "      <td>1</td>\n",
       "      <td>8</td>\n",
       "      <td>1</td>\n",
       "      <td>4232</td>\n",
       "      <td>13</td>\n",
       "      <td>16</td>\n",
       "      <td>1</td>\n",
       "    </tr>\n",
       "    <tr>\n",
       "      <th>59</th>\n",
       "      <td>14000</td>\n",
       "      <td>2012.0</td>\n",
       "      <td>95000.0</td>\n",
       "      <td>0</td>\n",
       "      <td>1</td>\n",
       "      <td>0</td>\n",
       "      <td>2</td>\n",
       "      <td>0</td>\n",
       "      <td>5</td>\n",
       "      <td>1</td>\n",
       "      <td>5</td>\n",
       "      <td>1</td>\n",
       "      <td>6336</td>\n",
       "      <td>16</td>\n",
       "      <td>16</td>\n",
       "      <td>9</td>\n",
       "    </tr>\n",
       "    <tr>\n",
       "      <th>65</th>\n",
       "      <td>22500</td>\n",
       "      <td>2001.0</td>\n",
       "      <td>144700.0</td>\n",
       "      <td>1</td>\n",
       "      <td>2</td>\n",
       "      <td>0</td>\n",
       "      <td>0</td>\n",
       "      <td>2</td>\n",
       "      <td>6</td>\n",
       "      <td>1</td>\n",
       "      <td>10</td>\n",
       "      <td>1</td>\n",
       "      <td>4364</td>\n",
       "      <td>13</td>\n",
       "      <td>16</td>\n",
       "      <td>10</td>\n",
       "    </tr>\n",
       "    <tr>\n",
       "      <th>73</th>\n",
       "      <td>15000</td>\n",
       "      <td>2017.0</td>\n",
       "      <td>90000.0</td>\n",
       "      <td>0</td>\n",
       "      <td>2</td>\n",
       "      <td>4</td>\n",
       "      <td>2</td>\n",
       "      <td>0</td>\n",
       "      <td>6</td>\n",
       "      <td>2</td>\n",
       "      <td>9</td>\n",
       "      <td>1</td>\n",
       "      <td>2241</td>\n",
       "      <td>10</td>\n",
       "      <td>16</td>\n",
       "      <td>5</td>\n",
       "    </tr>\n",
       "    <tr>\n",
       "      <th>...</th>\n",
       "      <td>...</td>\n",
       "      <td>...</td>\n",
       "      <td>...</td>\n",
       "      <td>...</td>\n",
       "      <td>...</td>\n",
       "      <td>...</td>\n",
       "      <td>...</td>\n",
       "      <td>...</td>\n",
       "      <td>...</td>\n",
       "      <td>...</td>\n",
       "      <td>...</td>\n",
       "      <td>...</td>\n",
       "      <td>...</td>\n",
       "      <td>...</td>\n",
       "      <td>...</td>\n",
       "      <td>...</td>\n",
       "    </tr>\n",
       "    <tr>\n",
       "      <th>426808</th>\n",
       "      <td>18000</td>\n",
       "      <td>2005.0</td>\n",
       "      <td>130000.0</td>\n",
       "      <td>0</td>\n",
       "      <td>0</td>\n",
       "      <td>1</td>\n",
       "      <td>2</td>\n",
       "      <td>0</td>\n",
       "      <td>6</td>\n",
       "      <td>1</td>\n",
       "      <td>10</td>\n",
       "      <td>50</td>\n",
       "      <td>7716</td>\n",
       "      <td>7</td>\n",
       "      <td>396</td>\n",
       "      <td>1</td>\n",
       "    </tr>\n",
       "    <tr>\n",
       "      <th>426809</th>\n",
       "      <td>18000</td>\n",
       "      <td>1990.0</td>\n",
       "      <td>114400.0</td>\n",
       "      <td>0</td>\n",
       "      <td>0</td>\n",
       "      <td>0</td>\n",
       "      <td>2</td>\n",
       "      <td>2</td>\n",
       "      <td>6</td>\n",
       "      <td>1</td>\n",
       "      <td>0</td>\n",
       "      <td>50</td>\n",
       "      <td>4854</td>\n",
       "      <td>20</td>\n",
       "      <td>396</td>\n",
       "      <td>0</td>\n",
       "    </tr>\n",
       "    <tr>\n",
       "      <th>426831</th>\n",
       "      <td>9800</td>\n",
       "      <td>1985.0</td>\n",
       "      <td>115000.0</td>\n",
       "      <td>0</td>\n",
       "      <td>2</td>\n",
       "      <td>0</td>\n",
       "      <td>2</td>\n",
       "      <td>3</td>\n",
       "      <td>5</td>\n",
       "      <td>3</td>\n",
       "      <td>4</td>\n",
       "      <td>50</td>\n",
       "      <td>467</td>\n",
       "      <td>30</td>\n",
       "      <td>396</td>\n",
       "      <td>8</td>\n",
       "    </tr>\n",
       "    <tr>\n",
       "      <th>426833</th>\n",
       "      <td>6800</td>\n",
       "      <td>1997.0</td>\n",
       "      <td>69550.0</td>\n",
       "      <td>0</td>\n",
       "      <td>2</td>\n",
       "      <td>0</td>\n",
       "      <td>2</td>\n",
       "      <td>2</td>\n",
       "      <td>6</td>\n",
       "      <td>0</td>\n",
       "      <td>2</td>\n",
       "      <td>50</td>\n",
       "      <td>9382</td>\n",
       "      <td>19</td>\n",
       "      <td>396</td>\n",
       "      <td>10</td>\n",
       "    </tr>\n",
       "    <tr>\n",
       "      <th>426836</th>\n",
       "      <td>0</td>\n",
       "      <td>2018.0</td>\n",
       "      <td>20492.0</td>\n",
       "      <td>0</td>\n",
       "      <td>0</td>\n",
       "      <td>0</td>\n",
       "      <td>0</td>\n",
       "      <td>0</td>\n",
       "      <td>5</td>\n",
       "      <td>1</td>\n",
       "      <td>10</td>\n",
       "      <td>50</td>\n",
       "      <td>249</td>\n",
       "      <td>33</td>\n",
       "      <td>396</td>\n",
       "      <td>10</td>\n",
       "    </tr>\n",
       "  </tbody>\n",
       "</table>\n",
       "<p>79195 rows × 16 columns</p>\n",
       "</div>"
      ],
      "text/plain": [
       "        price    year  odometer  transmission  drive  title_status  fuel  \\\n",
       "31      15000  2013.0  128000.0             0      2             0     2   \n",
       "55      19900  2004.0   88000.0             0      0             0     0   \n",
       "59      14000  2012.0   95000.0             0      1             0     2   \n",
       "65      22500  2001.0  144700.0             1      2             0     0   \n",
       "73      15000  2017.0   90000.0             0      2             4     2   \n",
       "...       ...     ...       ...           ...    ...           ...   ...   \n",
       "426808  18000  2005.0  130000.0             0      0             1     2   \n",
       "426809  18000  1990.0  114400.0             0      0             0     2   \n",
       "426831   9800  1985.0  115000.0             0      2             0     2   \n",
       "426833   6800  1997.0   69550.0             0      2             0     2   \n",
       "426836      0  2018.0   20492.0             0      0             0     0   \n",
       "\n",
       "        condition  cylinders  size  type  state  model  manufacturer  region  \\\n",
       "31              0          5     1    10      1   3868            13      16   \n",
       "55              2          6     1     8      1   4232            13      16   \n",
       "59              0          5     1     5      1   6336            16      16   \n",
       "65              2          6     1    10      1   4364            13      16   \n",
       "73              0          6     2     9      1   2241            10      16   \n",
       "...           ...        ...   ...   ...    ...    ...           ...     ...   \n",
       "426808          0          6     1    10     50   7716             7     396   \n",
       "426809          2          6     1     0     50   4854            20     396   \n",
       "426831          3          5     3     4     50    467            30     396   \n",
       "426833          2          6     0     2     50   9382            19     396   \n",
       "426836          0          5     1    10     50    249            33     396   \n",
       "\n",
       "        paint_color  \n",
       "31                0  \n",
       "55                1  \n",
       "59                9  \n",
       "65               10  \n",
       "73                5  \n",
       "...             ...  \n",
       "426808            1  \n",
       "426809            0  \n",
       "426831            8  \n",
       "426833           10  \n",
       "426836           10  \n",
       "\n",
       "[79195 rows x 16 columns]"
      ]
     },
     "execution_count": 22,
     "metadata": {},
     "output_type": "execute_result"
    }
   ],
   "source": [
    "# Construct format and trasform data\n",
    "le = LabelEncoder()\n",
    "\n",
    "\n",
    " \n",
    "# Using .fit_transform function to fit label\n",
    "# encoder and return encoded label\n",
    "label = le.fit_transform(data_new['transmission'])\n",
    "data_new.drop(\"transmission\", axis=1, inplace=True)\n",
    "data_new[\"transmission\"] = label\n",
    "\n",
    "\n",
    "label = le.fit_transform(data_new['drive'])\n",
    "data_new.drop(\"drive\", axis=1, inplace=True)\n",
    "data_new[\"drive\"] = label\n",
    "\n",
    "label = le.fit_transform(data_new['title_status'])\n",
    "data_new.drop(\"title_status\", axis=1, inplace=True)\n",
    "data_new[\"title_status\"] = label\n",
    "\n",
    "label = le.fit_transform(data_new['fuel'])\n",
    "data_new.drop(\"fuel\", axis=1, inplace=True)\n",
    "data_new[\"fuel\"] = label\n",
    "\n",
    "label = le.fit_transform(data_new['condition'])\n",
    "data_new.drop(\"condition\", axis=1, inplace=True)\n",
    "data_new[\"condition\"] = label\n",
    "\n",
    "label = le.fit_transform(data_new['cylinders'])\n",
    "data_new.drop(\"cylinders\", axis=1, inplace=True)\n",
    "data_new[\"cylinders\"] = label\n",
    "\n",
    "label = le.fit_transform(data_new['size'])\n",
    "data_new.drop(\"size\", axis=1, inplace=True)\n",
    "data_new[\"size\"] = label\n",
    "\n",
    "label = le.fit_transform(data_new['type'])\n",
    "data_new.drop(\"type\", axis=1, inplace=True)\n",
    "data_new[\"type\"] = label\n",
    "\n",
    "label = le.fit_transform(data_new['state'])\n",
    "data_new.drop(\"state\", axis=1, inplace=True)\n",
    "data_new[\"state\"] = label\n",
    "\n",
    "label = le.fit_transform(data_new['model'])\n",
    "data_new.drop(\"model\", axis=1, inplace=True)\n",
    "data_new[\"model\"] = label\n",
    "\n",
    "label = le.fit_transform(data_new['manufacturer'])\n",
    "data_new.drop(\"manufacturer\", axis=1, inplace=True)\n",
    "data_new[\"manufacturer\"] = label\n",
    "\n",
    "label = le.fit_transform(data_new['region'])\n",
    "data_new.drop(\"region\", axis=1, inplace=True)\n",
    "data_new[\"region\"] = label\n",
    "\n",
    "label = le.fit_transform(data_new['paint_color'])\n",
    "data_new.drop(\"paint_color\", axis=1, inplace=True)\n",
    "data_new[\"paint_color\"] = label\n",
    "\n",
    "data_new"
   ]
  },
  {
   "cell_type": "code",
   "execution_count": 23,
   "metadata": {},
   "outputs": [
    {
     "name": "stdout",
     "output_type": "stream",
     "text": [
      "<class 'pandas.core.frame.DataFrame'>\n",
      "Int64Index: 75738 entries, 31 to 426833\n",
      "Data columns (total 16 columns):\n",
      " #   Column        Non-Null Count  Dtype\n",
      "---  ------        --------------  -----\n",
      " 0   price         75738 non-null  Int64\n",
      " 1   year          75738 non-null  Int64\n",
      " 2   odometer      75738 non-null  Int64\n",
      " 3   transmission  75738 non-null  Int32\n",
      " 4   drive         75738 non-null  Int32\n",
      " 5   title_status  75738 non-null  Int32\n",
      " 6   fuel          75738 non-null  Int32\n",
      " 7   condition     75738 non-null  Int32\n",
      " 8   cylinders     75738 non-null  Int32\n",
      " 9   size          75738 non-null  Int32\n",
      " 10  type          75738 non-null  Int32\n",
      " 11  state         75738 non-null  Int32\n",
      " 12  model         75738 non-null  Int32\n",
      " 13  manufacturer  75738 non-null  Int32\n",
      " 14  region        75738 non-null  Int32\n",
      " 15  paint_color   75738 non-null  Int32\n",
      "dtypes: Int32(13), Int64(3)\n",
      "memory usage: 7.2 MB\n"
     ]
    }
   ],
   "source": [
    "# Construct format  and trasform data\n",
    "data_new=data_new.convert_dtypes()\n",
    "data_new = data_new[data_new['price'] != 0]\n",
    "data_new[data_new.select_dtypes(include=['float']).columns] = data_new.select_dtypes(include=['float']).astype('int64')\n",
    "data_new.info()"
   ]
  },
  {
   "cell_type": "code",
   "execution_count": 24,
   "metadata": {},
   "outputs": [
    {
     "data": {
      "text/plain": [
       "Index(['price', 'year', 'odometer', 'transmission', 'drive', 'title_status',\n",
       "       'fuel', 'condition', 'cylinders', 'size', 'type', 'state', 'model',\n",
       "       'manufacturer', 'region', 'paint_color'],\n",
       "      dtype='object')"
      ]
     },
     "execution_count": 24,
     "metadata": {},
     "output_type": "execute_result"
    }
   ],
   "source": [
    "data_new.columns"
   ]
  },
  {
   "cell_type": "code",
   "execution_count": 25,
   "metadata": {},
   "outputs": [
    {
     "data": {
      "text/html": [
       "<div>\n",
       "<style scoped>\n",
       "    .dataframe tbody tr th:only-of-type {\n",
       "        vertical-align: middle;\n",
       "    }\n",
       "\n",
       "    .dataframe tbody tr th {\n",
       "        vertical-align: top;\n",
       "    }\n",
       "\n",
       "    .dataframe thead th {\n",
       "        text-align: right;\n",
       "    }\n",
       "</style>\n",
       "<table border=\"1\" class=\"dataframe\">\n",
       "  <thead>\n",
       "    <tr style=\"text-align: right;\">\n",
       "      <th></th>\n",
       "      <th>price</th>\n",
       "      <th>year</th>\n",
       "      <th>odometer</th>\n",
       "      <th>transmission</th>\n",
       "      <th>drive</th>\n",
       "      <th>title_status</th>\n",
       "      <th>fuel</th>\n",
       "      <th>condition</th>\n",
       "      <th>cylinders</th>\n",
       "      <th>size</th>\n",
       "      <th>type</th>\n",
       "      <th>state</th>\n",
       "      <th>model</th>\n",
       "      <th>manufacturer</th>\n",
       "      <th>region</th>\n",
       "      <th>paint_color</th>\n",
       "    </tr>\n",
       "  </thead>\n",
       "  <tbody>\n",
       "    <tr>\n",
       "      <th>price</th>\n",
       "      <td>1.000000</td>\n",
       "      <td>-0.001443</td>\n",
       "      <td>0.000809</td>\n",
       "      <td>-0.001488</td>\n",
       "      <td>-0.002358</td>\n",
       "      <td>-0.001134</td>\n",
       "      <td>-0.003157</td>\n",
       "      <td>-0.002150</td>\n",
       "      <td>0.005387</td>\n",
       "      <td>-0.001507</td>\n",
       "      <td>0.002422</td>\n",
       "      <td>0.001744</td>\n",
       "      <td>0.005257</td>\n",
       "      <td>0.005419</td>\n",
       "      <td>-0.003111</td>\n",
       "      <td>0.004014</td>\n",
       "    </tr>\n",
       "    <tr>\n",
       "      <th>year</th>\n",
       "      <td>-0.001443</td>\n",
       "      <td>1.000000</td>\n",
       "      <td>-0.119279</td>\n",
       "      <td>-0.179557</td>\n",
       "      <td>-0.258276</td>\n",
       "      <td>0.061227</td>\n",
       "      <td>-0.019058</td>\n",
       "      <td>-0.037856</td>\n",
       "      <td>-0.201467</td>\n",
       "      <td>0.014169</td>\n",
       "      <td>0.022300</td>\n",
       "      <td>0.012546</td>\n",
       "      <td>0.054425</td>\n",
       "      <td>0.055978</td>\n",
       "      <td>-0.000273</td>\n",
       "      <td>0.033396</td>\n",
       "    </tr>\n",
       "    <tr>\n",
       "      <th>odometer</th>\n",
       "      <td>0.000809</td>\n",
       "      <td>-0.119279</td>\n",
       "      <td>1.000000</td>\n",
       "      <td>0.008655</td>\n",
       "      <td>-0.000773</td>\n",
       "      <td>-0.029398</td>\n",
       "      <td>-0.022977</td>\n",
       "      <td>0.012122</td>\n",
       "      <td>0.045504</td>\n",
       "      <td>0.002545</td>\n",
       "      <td>-0.000448</td>\n",
       "      <td>0.000692</td>\n",
       "      <td>-0.004484</td>\n",
       "      <td>0.004597</td>\n",
       "      <td>0.003294</td>\n",
       "      <td>0.001924</td>\n",
       "    </tr>\n",
       "    <tr>\n",
       "      <th>transmission</th>\n",
       "      <td>-0.001488</td>\n",
       "      <td>-0.179557</td>\n",
       "      <td>0.008655</td>\n",
       "      <td>1.000000</td>\n",
       "      <td>0.055864</td>\n",
       "      <td>-0.007870</td>\n",
       "      <td>0.002126</td>\n",
       "      <td>-0.010599</td>\n",
       "      <td>-0.087166</td>\n",
       "      <td>-0.080512</td>\n",
       "      <td>-0.004517</td>\n",
       "      <td>-0.037272</td>\n",
       "      <td>-0.025643</td>\n",
       "      <td>0.046960</td>\n",
       "      <td>-0.007039</td>\n",
       "      <td>-0.009370</td>\n",
       "    </tr>\n",
       "    <tr>\n",
       "      <th>drive</th>\n",
       "      <td>-0.002358</td>\n",
       "      <td>-0.258276</td>\n",
       "      <td>-0.000773</td>\n",
       "      <td>0.055864</td>\n",
       "      <td>1.000000</td>\n",
       "      <td>-0.006933</td>\n",
       "      <td>0.101877</td>\n",
       "      <td>0.044874</td>\n",
       "      <td>-0.023479</td>\n",
       "      <td>-0.017716</td>\n",
       "      <td>0.178280</td>\n",
       "      <td>-0.054782</td>\n",
       "      <td>-0.125777</td>\n",
       "      <td>-0.077817</td>\n",
       "      <td>0.012378</td>\n",
       "      <td>0.073906</td>\n",
       "    </tr>\n",
       "    <tr>\n",
       "      <th>title_status</th>\n",
       "      <td>-0.001134</td>\n",
       "      <td>0.061227</td>\n",
       "      <td>-0.029398</td>\n",
       "      <td>-0.007870</td>\n",
       "      <td>-0.006933</td>\n",
       "      <td>1.000000</td>\n",
       "      <td>0.016047</td>\n",
       "      <td>0.032853</td>\n",
       "      <td>-0.060857</td>\n",
       "      <td>-0.001159</td>\n",
       "      <td>0.002306</td>\n",
       "      <td>0.004786</td>\n",
       "      <td>-0.021500</td>\n",
       "      <td>0.023619</td>\n",
       "      <td>-0.021720</td>\n",
       "      <td>-0.025499</td>\n",
       "    </tr>\n",
       "    <tr>\n",
       "      <th>fuel</th>\n",
       "      <td>-0.003157</td>\n",
       "      <td>-0.019058</td>\n",
       "      <td>-0.022977</td>\n",
       "      <td>0.002126</td>\n",
       "      <td>0.101877</td>\n",
       "      <td>0.016047</td>\n",
       "      <td>1.000000</td>\n",
       "      <td>-0.013105</td>\n",
       "      <td>-0.199689</td>\n",
       "      <td>0.064067</td>\n",
       "      <td>-0.186267</td>\n",
       "      <td>-0.018240</td>\n",
       "      <td>0.023226</td>\n",
       "      <td>0.033182</td>\n",
       "      <td>0.009961</td>\n",
       "      <td>-0.070667</td>\n",
       "    </tr>\n",
       "    <tr>\n",
       "      <th>condition</th>\n",
       "      <td>-0.002150</td>\n",
       "      <td>-0.037856</td>\n",
       "      <td>0.012122</td>\n",
       "      <td>-0.010599</td>\n",
       "      <td>0.044874</td>\n",
       "      <td>0.032853</td>\n",
       "      <td>-0.013105</td>\n",
       "      <td>1.000000</td>\n",
       "      <td>0.028500</td>\n",
       "      <td>-0.011025</td>\n",
       "      <td>0.027020</td>\n",
       "      <td>0.025730</td>\n",
       "      <td>-0.005486</td>\n",
       "      <td>-0.022890</td>\n",
       "      <td>-0.010145</td>\n",
       "      <td>0.009379</td>\n",
       "    </tr>\n",
       "    <tr>\n",
       "      <th>cylinders</th>\n",
       "      <td>0.005387</td>\n",
       "      <td>-0.201467</td>\n",
       "      <td>0.045504</td>\n",
       "      <td>-0.087166</td>\n",
       "      <td>-0.023479</td>\n",
       "      <td>-0.060857</td>\n",
       "      <td>-0.199689</td>\n",
       "      <td>0.028500</td>\n",
       "      <td>1.000000</td>\n",
       "      <td>-0.031689</td>\n",
       "      <td>0.042742</td>\n",
       "      <td>0.018759</td>\n",
       "      <td>0.095838</td>\n",
       "      <td>-0.249565</td>\n",
       "      <td>0.005632</td>\n",
       "      <td>0.031255</td>\n",
       "    </tr>\n",
       "    <tr>\n",
       "      <th>size</th>\n",
       "      <td>-0.001507</td>\n",
       "      <td>0.014169</td>\n",
       "      <td>0.002545</td>\n",
       "      <td>-0.080512</td>\n",
       "      <td>-0.017716</td>\n",
       "      <td>-0.001159</td>\n",
       "      <td>0.064067</td>\n",
       "      <td>-0.011025</td>\n",
       "      <td>-0.031689</td>\n",
       "      <td>1.000000</td>\n",
       "      <td>-0.085844</td>\n",
       "      <td>0.021700</td>\n",
       "      <td>0.011667</td>\n",
       "      <td>0.021006</td>\n",
       "      <td>-0.015987</td>\n",
       "      <td>-0.014410</td>\n",
       "    </tr>\n",
       "    <tr>\n",
       "      <th>type</th>\n",
       "      <td>0.002422</td>\n",
       "      <td>0.022300</td>\n",
       "      <td>-0.000448</td>\n",
       "      <td>-0.004517</td>\n",
       "      <td>0.178280</td>\n",
       "      <td>0.002306</td>\n",
       "      <td>-0.186267</td>\n",
       "      <td>0.027020</td>\n",
       "      <td>0.042742</td>\n",
       "      <td>-0.085844</td>\n",
       "      <td>1.000000</td>\n",
       "      <td>-0.000296</td>\n",
       "      <td>-0.120603</td>\n",
       "      <td>-0.016138</td>\n",
       "      <td>-0.004404</td>\n",
       "      <td>0.087811</td>\n",
       "    </tr>\n",
       "    <tr>\n",
       "      <th>state</th>\n",
       "      <td>0.001744</td>\n",
       "      <td>0.012546</td>\n",
       "      <td>0.000692</td>\n",
       "      <td>-0.037272</td>\n",
       "      <td>-0.054782</td>\n",
       "      <td>0.004786</td>\n",
       "      <td>-0.018240</td>\n",
       "      <td>0.025730</td>\n",
       "      <td>0.018759</td>\n",
       "      <td>0.021700</td>\n",
       "      <td>-0.000296</td>\n",
       "      <td>1.000000</td>\n",
       "      <td>0.026415</td>\n",
       "      <td>-0.021298</td>\n",
       "      <td>-0.022068</td>\n",
       "      <td>-0.009192</td>\n",
       "    </tr>\n",
       "    <tr>\n",
       "      <th>model</th>\n",
       "      <td>0.005257</td>\n",
       "      <td>0.054425</td>\n",
       "      <td>-0.004484</td>\n",
       "      <td>-0.025643</td>\n",
       "      <td>-0.125777</td>\n",
       "      <td>-0.021500</td>\n",
       "      <td>0.023226</td>\n",
       "      <td>-0.005486</td>\n",
       "      <td>0.095838</td>\n",
       "      <td>0.011667</td>\n",
       "      <td>-0.120603</td>\n",
       "      <td>0.026415</td>\n",
       "      <td>1.000000</td>\n",
       "      <td>-0.018899</td>\n",
       "      <td>0.001161</td>\n",
       "      <td>0.014585</td>\n",
       "    </tr>\n",
       "    <tr>\n",
       "      <th>manufacturer</th>\n",
       "      <td>0.005419</td>\n",
       "      <td>0.055978</td>\n",
       "      <td>0.004597</td>\n",
       "      <td>0.046960</td>\n",
       "      <td>-0.077817</td>\n",
       "      <td>0.023619</td>\n",
       "      <td>0.033182</td>\n",
       "      <td>-0.022890</td>\n",
       "      <td>-0.249565</td>\n",
       "      <td>0.021006</td>\n",
       "      <td>-0.016138</td>\n",
       "      <td>-0.021298</td>\n",
       "      <td>-0.018899</td>\n",
       "      <td>1.000000</td>\n",
       "      <td>0.004615</td>\n",
       "      <td>-0.017257</td>\n",
       "    </tr>\n",
       "    <tr>\n",
       "      <th>region</th>\n",
       "      <td>-0.003111</td>\n",
       "      <td>-0.000273</td>\n",
       "      <td>0.003294</td>\n",
       "      <td>-0.007039</td>\n",
       "      <td>0.012378</td>\n",
       "      <td>-0.021720</td>\n",
       "      <td>0.009961</td>\n",
       "      <td>-0.010145</td>\n",
       "      <td>0.005632</td>\n",
       "      <td>-0.015987</td>\n",
       "      <td>-0.004404</td>\n",
       "      <td>-0.022068</td>\n",
       "      <td>0.001161</td>\n",
       "      <td>0.004615</td>\n",
       "      <td>1.000000</td>\n",
       "      <td>-0.003779</td>\n",
       "    </tr>\n",
       "    <tr>\n",
       "      <th>paint_color</th>\n",
       "      <td>0.004014</td>\n",
       "      <td>0.033396</td>\n",
       "      <td>0.001924</td>\n",
       "      <td>-0.009370</td>\n",
       "      <td>0.073906</td>\n",
       "      <td>-0.025499</td>\n",
       "      <td>-0.070667</td>\n",
       "      <td>0.009379</td>\n",
       "      <td>0.031255</td>\n",
       "      <td>-0.014410</td>\n",
       "      <td>0.087811</td>\n",
       "      <td>-0.009192</td>\n",
       "      <td>0.014585</td>\n",
       "      <td>-0.017257</td>\n",
       "      <td>-0.003779</td>\n",
       "      <td>1.000000</td>\n",
       "    </tr>\n",
       "  </tbody>\n",
       "</table>\n",
       "</div>"
      ],
      "text/plain": [
       "                 price      year  odometer  transmission     drive  \\\n",
       "price         1.000000 -0.001443  0.000809     -0.001488 -0.002358   \n",
       "year         -0.001443  1.000000 -0.119279     -0.179557 -0.258276   \n",
       "odometer      0.000809 -0.119279  1.000000      0.008655 -0.000773   \n",
       "transmission -0.001488 -0.179557  0.008655      1.000000  0.055864   \n",
       "drive        -0.002358 -0.258276 -0.000773      0.055864  1.000000   \n",
       "title_status -0.001134  0.061227 -0.029398     -0.007870 -0.006933   \n",
       "fuel         -0.003157 -0.019058 -0.022977      0.002126  0.101877   \n",
       "condition    -0.002150 -0.037856  0.012122     -0.010599  0.044874   \n",
       "cylinders     0.005387 -0.201467  0.045504     -0.087166 -0.023479   \n",
       "size         -0.001507  0.014169  0.002545     -0.080512 -0.017716   \n",
       "type          0.002422  0.022300 -0.000448     -0.004517  0.178280   \n",
       "state         0.001744  0.012546  0.000692     -0.037272 -0.054782   \n",
       "model         0.005257  0.054425 -0.004484     -0.025643 -0.125777   \n",
       "manufacturer  0.005419  0.055978  0.004597      0.046960 -0.077817   \n",
       "region       -0.003111 -0.000273  0.003294     -0.007039  0.012378   \n",
       "paint_color   0.004014  0.033396  0.001924     -0.009370  0.073906   \n",
       "\n",
       "              title_status      fuel  condition  cylinders      size  \\\n",
       "price            -0.001134 -0.003157  -0.002150   0.005387 -0.001507   \n",
       "year              0.061227 -0.019058  -0.037856  -0.201467  0.014169   \n",
       "odometer         -0.029398 -0.022977   0.012122   0.045504  0.002545   \n",
       "transmission     -0.007870  0.002126  -0.010599  -0.087166 -0.080512   \n",
       "drive            -0.006933  0.101877   0.044874  -0.023479 -0.017716   \n",
       "title_status      1.000000  0.016047   0.032853  -0.060857 -0.001159   \n",
       "fuel              0.016047  1.000000  -0.013105  -0.199689  0.064067   \n",
       "condition         0.032853 -0.013105   1.000000   0.028500 -0.011025   \n",
       "cylinders        -0.060857 -0.199689   0.028500   1.000000 -0.031689   \n",
       "size             -0.001159  0.064067  -0.011025  -0.031689  1.000000   \n",
       "type              0.002306 -0.186267   0.027020   0.042742 -0.085844   \n",
       "state             0.004786 -0.018240   0.025730   0.018759  0.021700   \n",
       "model            -0.021500  0.023226  -0.005486   0.095838  0.011667   \n",
       "manufacturer      0.023619  0.033182  -0.022890  -0.249565  0.021006   \n",
       "region           -0.021720  0.009961  -0.010145   0.005632 -0.015987   \n",
       "paint_color      -0.025499 -0.070667   0.009379   0.031255 -0.014410   \n",
       "\n",
       "                  type     state     model  manufacturer    region  \\\n",
       "price         0.002422  0.001744  0.005257      0.005419 -0.003111   \n",
       "year          0.022300  0.012546  0.054425      0.055978 -0.000273   \n",
       "odometer     -0.000448  0.000692 -0.004484      0.004597  0.003294   \n",
       "transmission -0.004517 -0.037272 -0.025643      0.046960 -0.007039   \n",
       "drive         0.178280 -0.054782 -0.125777     -0.077817  0.012378   \n",
       "title_status  0.002306  0.004786 -0.021500      0.023619 -0.021720   \n",
       "fuel         -0.186267 -0.018240  0.023226      0.033182  0.009961   \n",
       "condition     0.027020  0.025730 -0.005486     -0.022890 -0.010145   \n",
       "cylinders     0.042742  0.018759  0.095838     -0.249565  0.005632   \n",
       "size         -0.085844  0.021700  0.011667      0.021006 -0.015987   \n",
       "type          1.000000 -0.000296 -0.120603     -0.016138 -0.004404   \n",
       "state        -0.000296  1.000000  0.026415     -0.021298 -0.022068   \n",
       "model        -0.120603  0.026415  1.000000     -0.018899  0.001161   \n",
       "manufacturer -0.016138 -0.021298 -0.018899      1.000000  0.004615   \n",
       "region       -0.004404 -0.022068  0.001161      0.004615  1.000000   \n",
       "paint_color   0.087811 -0.009192  0.014585     -0.017257 -0.003779   \n",
       "\n",
       "              paint_color  \n",
       "price            0.004014  \n",
       "year             0.033396  \n",
       "odometer         0.001924  \n",
       "transmission    -0.009370  \n",
       "drive            0.073906  \n",
       "title_status    -0.025499  \n",
       "fuel            -0.070667  \n",
       "condition        0.009379  \n",
       "cylinders        0.031255  \n",
       "size            -0.014410  \n",
       "type             0.087811  \n",
       "state           -0.009192  \n",
       "model            0.014585  \n",
       "manufacturer    -0.017257  \n",
       "region          -0.003779  \n",
       "paint_color      1.000000  "
      ]
     },
     "execution_count": 25,
     "metadata": {},
     "output_type": "execute_result"
    }
   ],
   "source": [
    "#correlation of the data\n",
    "data_new.corr()"
   ]
  },
  {
   "cell_type": "code",
   "execution_count": 26,
   "metadata": {},
   "outputs": [
    {
     "data": {
      "text/plain": [
       "<AxesSubplot:>"
      ]
     },
     "execution_count": 26,
     "metadata": {},
     "output_type": "execute_result"
    },
    {
     "data": {
      "image/png": "[encoded data removed]",
      "text/plain": [
       "<Figure size 432x288 with 2 Axes>"
      ]
     },
     "metadata": {
      "needs_background": "light"
     },
     "output_type": "display_data"
    }
   ],
   "source": [
    "#Visualization of correlation after data conversion\n",
    "sns.heatmap(data_new.corr(), annot = True, fmt='.1g')"
   ]
  },
  {
   "cell_type": "code",
   "execution_count": 27,
   "metadata": {},
   "outputs": [
    {
     "data": {
      "image/png": "[encoded data removed]",
      "text/plain": [
       "<Figure size 864x288 with 3 Axes>"
      ]
     },
     "metadata": {
      "needs_background": "light"
     },
     "output_type": "display_data"
    },
    {
     "data": {
      "image/png": "[encoded data removed]",
      "text/plain": [
       "<Figure size 864x288 with 3 Axes>"
      ]
     },
     "metadata": {
      "needs_background": "light"
     },
     "output_type": "display_data"
    },
    {
     "data": {
      "image/png": "[encoded data removed]",
      "text/plain": [
       "<Figure size 864x288 with 3 Axes>"
      ]
     },
     "metadata": {
      "needs_background": "light"
     },
     "output_type": "display_data"
    },
    {
     "data": {
      "image/png": "[encoded data removed]",
      "text/plain": [
       "<Figure size 864x288 with 3 Axes>"
      ]
     },
     "metadata": {
      "needs_background": "light"
     },
     "output_type": "display_data"
    }
   ],
   "source": [
    "def pairplots_corr(x,y,z):\n",
    "    sns.pairplot(data_new, x_vars=[x,y,z], y_vars='price',size=4, aspect=1, kind='scatter')\n",
    "    plt.show()\n",
    "\n",
    "pairplots_corr('condition', 'odometer', 'title_status')\n",
    "pairplots_corr('fuel', 'size', 'type')\n",
    "pairplots_corr('transmission', 'cylinders', 'drive')\n",
    "pairplots_corr('year', 'manufacturer', 'paint_color')"
   ]
  },
  {
   "attachments": {},
   "cell_type": "markdown",
   "metadata": {},
   "source": [
    "Inference:\n",
    "* Vehicle manufacturer, year, cylinder has positive correlation on price\n",
    "* Odometer, condition , title status, size has negative correlation on price. \n",
    "* Please note the categorical columns were converted to numeric hence the numeic value should be mapped to actual unique column value\n",
    "\n"
   ]
  },
  {
   "cell_type": "markdown",
   "metadata": {},
   "source": [
    "### Modeling\n",
    "\n",
    "With your (almost?) final dataset in hand, it is now time to build some models.  Here, you should build a number of different regression models with the price as the target.  In building your models, you should explore different parameters and be sure to cross-validate your findings."
   ]
  },
  {
   "attachments": {},
   "cell_type": "markdown",
   "metadata": {},
   "source": [
    "##### Select Modeling Techniques\n",
    "Modeling Technique:\n",
    "* Regression: Liner, Huber, Ridge, Lasso\n",
    "* Scaler: SequentialFeatureSelector, Standard Scaler\n",
    "* Estimator: Lasso\n",
    "* PolynomialFeatures\n",
    "* GrideSearchCV\n",
    "* ridge__alpha\n",
    "\n",
    "Modeling Assumptions:I used the cleaned dataset after dropping column id and VIN, removing nulls and with 79195 records and 16 features\n",
    "##### Generate Test Design\n",
    "Test Design: Out of scope of this assignment\n",
    "##### Build Model\n",
    "Parameter Settings\n",
    "Models\n",
    "Model Descriptions:\n",
    "* Simple Linear Regresion with all features\n",
    "* HuberRegressor on all features\n",
    "* Linear Regression for specific columns using Dummy encoder\n",
    "* Linear Regression with train and test\n",
    "* Simple Ridge Regression\n",
    "* Ridge Regression with PolynomialFeatures, SFS and Lasso as estimator\n",
    "* Ridge Regression with Standard Scaler and GridSearchCV\n",
    "##### Assess Model\n",
    "Model Assessment:\n",
    "I couldn't use cross_val_score as it took forever to proved me the cross value for each pipeline model.\n",
    "Revised Parameter Settings: None"
   ]
  },
  {
   "attachments": {},
   "cell_type": "markdown",
   "metadata": {},
   "source": [
    "Simple Linear Regresion with all features"
   ]
  },
  {
   "cell_type": "code",
   "execution_count": 28,
   "metadata": {},
   "outputs": [
    {
     "name": "stdout",
     "output_type": "stream",
     "text": [
      "LinearRegression: MSE All features: 201292114600415.5\n",
      "LinearRegression: Coef_ All features: [-2.20157515e+02  3.62163794e-02 -5.01700574e+04 -2.56610859e+04\n",
      " -1.07492431e+04 -3.42128579e+04 -2.68275348e+04  6.47404060e+04\n",
      " -2.93658657e+04  8.46961984e+03  1.50842138e+03  2.57208993e+01\n",
      "  9.08500103e+03 -3.82656700e+02  1.31316244e+04]\n"
     ]
    }
   ],
   "source": [
    "\n",
    "X = ''\n",
    "y = ''\n",
    "all_features_linreg = ''\n",
    "linreg_mse = ''\n",
    "data_model=data_new.copy()\n",
    "X = pd.get_dummies(data_model.drop('price', axis = 1))\n",
    "y = data_model['price']\n",
    "all_features_linreg = LinearRegression(fit_intercept=False).fit(X, y)\n",
    "linreg_mse = mean_squared_error(all_features_linreg.predict(X), y)\n",
    "\n",
    "print(f'LinearRegression: MSE All features: {linreg_mse}')\n",
    "print(f'LinearRegression: Coef_ All features: {all_features_linreg.coef_}')\n"
   ]
  },
  {
   "attachments": {},
   "cell_type": "markdown",
   "metadata": {},
   "source": [
    "HuberRegressor on all features"
   ]
  },
  {
   "cell_type": "code",
   "execution_count": 29,
   "metadata": {},
   "outputs": [
    {
     "name": "stdout",
     "output_type": "stream",
     "text": [
      "HuberRegressor: MSE All features: 201327424437751.97\n",
      "HuberRegressor: Coef_ All features: [ 7.61736954e+00 -5.29368843e-02 -2.12940600e-05  2.44186033e-03\n",
      "  9.60412143e-04  5.25232252e-03  3.15807301e-03  2.05501175e-02\n",
      "  4.26892863e-03  2.93034643e-02  8.72564313e-02  2.49821009e-01\n",
      "  5.66855403e-02  7.42977070e-01  2.36096879e-02]\n"
     ]
    }
   ],
   "source": [
    "X = ''\n",
    "y = ''\n",
    "huber_all_features = ''\n",
    "huber_mse = ''\n",
    "data_model=data_new.copy()\n",
    "X = pd.get_dummies(data_model.drop('price', axis = 1))\n",
    "y = data_model['price']\n",
    "huber_all_features = HuberRegressor(fit_intercept=False).fit(X, y)\n",
    "huber_mse = mean_squared_error(huber_all_features.predict(X), y)\n",
    "print(f'HuberRegressor: MSE All features: {huber_mse}')\n",
    "print(f'HuberRegressor: Coef_ All features: {huber_all_features.coef_}')\n",
    "\n"
   ]
  },
  {
   "attachments": {},
   "cell_type": "markdown",
   "metadata": {},
   "source": [
    "Linear Regression for specific columns using Dummy encoder"
   ]
  },
  {
   "cell_type": "code",
   "execution_count": 35,
   "metadata": {},
   "outputs": [
    {
     "name": "stdout",
     "output_type": "stream",
     "text": [
      "manufacturer ['gmc' 'chevrolet' 'toyota' 'ford' 'jeep' 'nissan' 'ram' 'mazda'\n",
      " 'cadillac' 'honda' 'dodge' 'lexus' 'jaguar' 'buick' 'chrysler' 'volvo'\n",
      " 'audi' 'infiniti' 'lincoln' 'alfa-romeo' 'subaru' 'acura' 'hyundai'\n",
      " 'mercedes-benz' 'bmw' 'mitsubishi' 'volkswagen' 'porsche' 'kia' 'rover'\n",
      " 'ferrari' 'mini' 'pontiac' 'fiat' 'tesla' 'saturn' 'mercury'\n",
      " 'harley-davidson' 'datsun' 'aston-martin' 'land rover' 'morgan']\n",
      "shape of data_model =  (409234, 2)\n",
      "manufacturer_mse: MSE for  manufacturer column: 154720920904741.9\n",
      "gmc_price_prediction =  19842.87\n",
      "lexus_price_prediction =  107438.74\n",
      "porsche_price_prediction =  531710.56\n"
     ]
    }
   ],
   "source": [
    "print('manufacturer',data['manufacturer'].dropna().unique())\n",
    "data_model=data[['manufacturer','price']].dropna()\n",
    "data_model.shape\n",
    "print(\"shape of data_model = \", data_model.shape)\n",
    "\n",
    "X = pd.get_dummies(data_model[['manufacturer']])\n",
    "\n",
    "y = data_model['price']\n",
    "manufacturer_linreg = LinearRegression(fit_intercept=False).fit(X, y)\n",
    "manufacturer_mse = mean_squared_error(manufacturer_linreg.predict(X), y)\n",
    "print(f'manufacturer_mse: MSE for  manufacturer column: {manufacturer_mse}')\n",
    "\n",
    "gmc_price_prediction = float(round(manufacturer_linreg.coef_[0], 2))\n",
    "print(\"gmc_price_prediction = \", gmc_price_prediction)\n",
    "lexus_price_prediction = float(round(manufacturer_linreg.coef_[11], 2))\n",
    "print(\"lexus_price_prediction = \", lexus_price_prediction)\n",
    "\n",
    "porsche_price_prediction = float(round(manufacturer_linreg.coef_[26], 2))\n",
    "print(\"porsche_price_prediction = \", porsche_price_prediction)\n"
   ]
  },
  {
   "attachments": {},
   "cell_type": "markdown",
   "metadata": {},
   "source": [
    "Linear Regression with train and test"
   ]
  },
  {
   "cell_type": "code",
   "execution_count": null,
   "metadata": {},
   "outputs": [
    {
     "name": "stdout",
     "output_type": "stream",
     "text": [
      "shape of X =  (75738, 15)\n",
      "shape of y =  (75738,)\n",
      "shape of X_train =  (45442, 15)\n",
      "shape of y_train =  (45442,)\n",
      "shape of X_test =  (30296, 15)\n",
      "shape of y_test =  (30296,)\n",
      "Liner Regression: MSE All features: 335119860794646.9\n",
      "Liner Regression: MSE All features: 594443251286.0941\n",
      "Coefficients:  [-4.45976657e+03  4.37734944e-02 -1.05323846e+05 -5.16832760e+04\n",
      " -1.49299657e+04 -5.45792259e+04 -4.60936621e+04  9.75343116e+04\n",
      " -4.78612293e+04  1.44084765e+04  2.39603988e+03  4.19396658e+01\n",
      "  1.51378986e+04 -6.60820499e+02  2.31739353e+04]\n",
      "Variance score: -0.181517811059563\n",
      "all_feature_liner_train_mse: MSE for  all feature Linear reg with train test is: 335119860794646.9\n",
      "all_feature_liner_test_mse: MSE for  all feature Linear reg with test test is: 594443251286.0941\n"
     ]
    },
    {
     "data": {
      "image/png": "[encoded data removed]",
      "text/plain": [
       "<Figure size 432x288 with 1 Axes>"
      ]
     },
     "metadata": {},
     "output_type": "display_data"
    }
   ],
   "source": [
    "from sklearn import datasets, linear_model, metrics\n",
    "data_model=data_new.copy()\n",
    "# defining feature matrix(X) and response vector(y)\n",
    "X = data_model.drop(['price'], axis=1)\n",
    "y = data_model['price']\n",
    "print(\"shape of X = \", X.shape)\n",
    "print(\"shape of y = \", y.shape)\n",
    "np.random.seed(0)\n",
    "# splitting X and y into training and testing sets\n",
    "#X_train, X_test, y_train, y_test = train_test_split(X, y, random_state = 32, train_size = 0.7,test_size=0.3)\n",
    "X_train, X_test, y_train, y_test = train_test_split(X, y, test_size=0.20, random_state=1)\n",
    "print(\"shape of X_train = \", X_train.shape)\n",
    "print(\"shape of y_train = \", y_train.shape)\n",
    "print(\"shape of X_test = \", X_test.shape)\n",
    "print(\"shape of y_test = \", y_test.shape)\n",
    "# create linear regression object\n",
    "all_feature_liner_model = linear_model.LinearRegression()\n",
    "# train the model using the training sets\n",
    "all_feature_liner_model.fit(X_train, y_train)\n",
    "all_feature_liner_train_mse = mean_squared_error(y_train,all_feature_liner_model.predict(X_train))\n",
    "all_feature_liner_test_mse = mean_squared_error(y_test,all_feature_liner_model.predict(X_test))\n",
    "\n",
    "\n",
    "all_feature_liner_model_coefs = all_feature_liner_model.coef_\n",
    "print(f'Liner Regression: MSE All features: {all_feature_liner_train_mse}')\n",
    "print(f'Liner Regression: MSE All features: {all_feature_liner_test_mse}')\n",
    "\n",
    "\n",
    "# regression coefficients\n",
    "print('Coefficients: ', all_feature_liner_model_coefs)\n",
    "  \n",
    "# variance score: 1 means perfect prediction\n",
    "print('Variance score: {}'.format(all_feature_liner_model.score(X_test, y_test)))\n",
    "print(f'all_feature_liner_train_mse: MSE for  all feature Linear reg with train test is: {all_feature_liner_train_mse}')\n",
    "print(f'all_feature_liner_test_mse: MSE for  all feature Linear reg with test test is: {all_feature_liner_test_mse}')\n",
    "\n",
    "#print(\"cross_val_score=\",cross_val_score(all_feature_liner_model, X_train, y_train, cv=5, scoring='neg_mean_absolute_error').mean())\n",
    "# plot for residual error\n",
    "  \n",
    "## setting plot style\n",
    "plt.style.use('fivethirtyeight')\n",
    "  \n",
    "## plotting residual errors in training data\n",
    "plt.scatter(all_feature_liner_model.predict(X_train), all_feature_liner_model.predict(X_train) - y_train,\n",
    "            color = \"green\", s = 10, label = 'Train data')\n",
    "## plotting residual errors in test data\n",
    "plt.scatter(all_feature_liner_model.predict(X_test), all_feature_liner_model.predict(X_test) - y_test,\n",
    "            color = \"blue\", s = 10, label = 'Test data')\n",
    "  \n",
    "## plotting line for zero residual error\n",
    "plt.hlines(y = 0, xmin = 0, xmax = 50, linewidth = 2)\n",
    "  \n",
    "## plotting legend\n",
    "plt.legend(loc = 'upper right')\n",
    "  \n",
    "## plot title\n",
    "plt.title(\"Residual errors\")\n",
    "  \n",
    "## method call for showing the plot\n",
    "plt.show()"
   ]
  },
  {
   "attachments": {},
   "cell_type": "markdown",
   "metadata": {},
   "source": [
    "Simple Ridge Regression "
   ]
  },
  {
   "cell_type": "code",
   "execution_count": null,
   "metadata": {},
   "outputs": [
    {
     "name": "stdout",
     "output_type": "stream",
     "text": [
      "Ridge Regression: MSE All features: 335119860794708.9\n",
      "Ridge Regression: MSE All features: 594441928437.9065\n",
      "Ridge Regression: Coef_ All features: [-4.45960627e+03  4.37743221e-02 -1.05301958e+05 -5.16816420e+04\n",
      " -1.49297353e+04 -5.45753629e+04 -4.60928702e+04  9.75340335e+04\n",
      " -4.78581470e+04  1.44085344e+04  2.39606054e+03  4.19397667e+01\n",
      "  1.51378518e+04 -6.60820011e+02  2.31739162e+04]\n"
     ]
    }
   ],
   "source": [
    "X = ''\n",
    "y = ''\n",
    "\n",
    "data_model=data_new.copy()\n",
    "X = pd.get_dummies(data_model.drop('price', axis = 1))\n",
    "y = data_model['price']\n",
    "\n",
    "# Simple Ridge Regression\n",
    "ridgemodel = Ridge().fit(X_train, y_train)\n",
    "train_mse = mean_squared_error(y_train, ridgemodel.predict(X_train))\n",
    "test_mse = mean_squared_error(y_test, ridgemodel.predict(X_test))\n",
    "ridgemodel_coefs = ridgemodel.coef_\n",
    "print(f'Ridge Regression: MSE All features: {train_mse}')\n",
    "print(f'Ridge Regression: MSE All features: {test_mse}')\n",
    "print(f'Ridge Regression: Coef_ All features: {ridgemodel_coefs}')\n",
    "#print(\"cross_val_score=\",cross_val_score(ridgemodel, X_train, y_train, cv=5, scoring='neg_mean_absolute_error').mean())"
   ]
  },
  {
   "attachments": {},
   "cell_type": "markdown",
   "metadata": {},
   "source": [
    "Ridge Regression with PolynomialFeatures, SFS and Lasso as estimator"
   ]
  },
  {
   "cell_type": "code",
   "execution_count": 42,
   "metadata": {},
   "outputs": [],
   "source": [
    "# Ridge Regression with  PolynomialFeatures and SFS\n",
    "X_train, X_test, y_train, y_test = train_test_split(X, y, test_size = 0.20, random_state = 1)\n",
    "sequential_pipe = Pipeline([('poly_features', PolynomialFeatures(degree = 3, include_bias = False)),\n",
    "                           ('selector', SequentialFeatureSelector(estimator = Lasso(),\n",
    "                                                             n_features_to_select=4)),\n",
    "                           ('ridge', Ridge())])\n",
    "sequential_pipe.fit(X_train, y_train)\n",
    "sequential_train_mse = mean_squared_error(y_train, sequential_pipe.predict(X_train))\n",
    "sequential_test_mse = mean_squared_error(y_test, sequential_pipe.predict(X_test))\n",
    "\n",
    "print(f'Ridge Regression with SFS Train MSE: {sequential_train_mse}')\n",
    "print(f'Ridge Regression with SFS Test MSE: {sequential_test_mse}')\n",
    "#print(\"cross_val_score=\",cross_val_score(sequential_pipe, X_train, y_train, cv=5, scoring='neg_mean_absolute_error').mean())\n",
    "sequential_pipe\n"
   ]
  },
  {
   "attachments": {},
   "cell_type": "markdown",
   "metadata": {},
   "source": [
    "Ridge Regression with Standard Scaler and GridSearchCV"
   ]
  },
  {
   "cell_type": "code",
   "execution_count": null,
   "metadata": {},
   "outputs": [
    {
     "name": "stdout",
     "output_type": "stream",
     "text": [
      "Ridge Regression with StandardScaler Train MSE: 251605335199579.84\n",
      "Ridge Regression with StandardScaler Test MSE: 53906166159.14756\n"
     ]
    },
    {
     "data": {
      "text/html": [
       "<style>#sk-container-id-6 {color: black;background-color: white;}#sk-container-id-6 pre{padding: 0;}#sk-container-id-6 div.sk-toggleable {background-color: white;}#sk-container-id-6 label.sk-toggleable__label {cursor: pointer;display: block;width: 100%;margin-bottom: 0;padding: 0.3em;box-sizing: border-box;text-align: center;}#sk-container-id-6 label.sk-toggleable__label-arrow:before {content: \"▸\";float: left;margin-right: 0.25em;color: #696969;}#sk-container-id-6 label.sk-toggleable__label-arrow:hover:before {color: black;}#sk-container-id-6 div.sk-estimator:hover label.sk-toggleable__label-arrow:before {color: black;}#sk-container-id-6 div.sk-toggleable__content {max-height: 0;max-width: 0;overflow: hidden;text-align: left;background-color: #f0f8ff;}#sk-container-id-6 div.sk-toggleable__content pre {margin: 0.2em;color: black;border-radius: 0.25em;background-color: #f0f8ff;}#sk-container-id-6 input.sk-toggleable__control:checked~div.sk-toggleable__content {max-height: 200px;max-width: 100%;overflow: auto;}#sk-container-id-6 input.sk-toggleable__control:checked~label.sk-toggleable__label-arrow:before {content: \"▾\";}#sk-container-id-6 div.sk-estimator input.sk-toggleable__control:checked~label.sk-toggleable__label {background-color: #d4ebff;}#sk-container-id-6 div.sk-label input.sk-toggleable__control:checked~label.sk-toggleable__label {background-color: #d4ebff;}#sk-container-id-6 input.sk-hidden--visually {border: 0;clip: rect(1px 1px 1px 1px);clip: rect(1px, 1px, 1px, 1px);height: 1px;margin: -1px;overflow: hidden;padding: 0;position: absolute;width: 1px;}#sk-container-id-6 div.sk-estimator {font-family: monospace;background-color: #f0f8ff;border: 1px dotted black;border-radius: 0.25em;box-sizing: border-box;margin-bottom: 0.5em;}#sk-container-id-6 div.sk-estimator:hover {background-color: #d4ebff;}#sk-container-id-6 div.sk-parallel-item::after {content: \"\";width: 100%;border-bottom: 1px solid gray;flex-grow: 1;}#sk-container-id-6 div.sk-label:hover label.sk-toggleable__label {background-color: #d4ebff;}#sk-container-id-6 div.sk-serial::before {content: \"\";position: absolute;border-left: 1px solid gray;box-sizing: border-box;top: 0;bottom: 0;left: 50%;z-index: 0;}#sk-container-id-6 div.sk-serial {display: flex;flex-direction: column;align-items: center;background-color: white;padding-right: 0.2em;padding-left: 0.2em;position: relative;}#sk-container-id-6 div.sk-item {position: relative;z-index: 1;}#sk-container-id-6 div.sk-parallel {display: flex;align-items: stretch;justify-content: center;background-color: white;position: relative;}#sk-container-id-6 div.sk-item::before, #sk-container-id-6 div.sk-parallel-item::before {content: \"\";position: absolute;border-left: 1px solid gray;box-sizing: border-box;top: 0;bottom: 0;left: 50%;z-index: -1;}#sk-container-id-6 div.sk-parallel-item {display: flex;flex-direction: column;z-index: 1;position: relative;background-color: white;}#sk-container-id-6 div.sk-parallel-item:first-child::after {align-self: flex-end;width: 50%;}#sk-container-id-6 div.sk-parallel-item:last-child::after {align-self: flex-start;width: 50%;}#sk-container-id-6 div.sk-parallel-item:only-child::after {width: 0;}#sk-container-id-6 div.sk-dashed-wrapped {border: 1px dashed gray;margin: 0 0.4em 0.5em 0.4em;box-sizing: border-box;padding-bottom: 0.4em;background-color: white;}#sk-container-id-6 div.sk-label label {font-family: monospace;font-weight: bold;display: inline-block;line-height: 1.2em;}#sk-container-id-6 div.sk-label-container {text-align: center;}#sk-container-id-6 div.sk-container {/* jupyter's `normalize.less` sets `[hidden] { display: none; }` but bootstrap.min.css set `[hidden] { display: none !important; }` so we also need the `!important` here to be able to override the default hidden behavior on the sphinx rendered scikit-learn.org. See: https://github.com/scikit-learn/scikit-learn/issues/21755 */display: inline-block !important;position: relative;}#sk-container-id-6 div.sk-text-repr-fallback {display: none;}</style><div id=\"sk-container-id-6\" class=\"sk-top-container\"><div class=\"sk-text-repr-fallback\"><pre>Pipeline(steps=[(&#x27;scaler&#x27;, StandardScaler()), (&#x27;ridge&#x27;, Ridge())])</pre><b>In a Jupyter environment, please rerun this cell to show the HTML representation or trust the notebook. <br />On GitHub, the HTML representation is unable to render, please try loading this page with nbviewer.org.</b></div><div class=\"sk-container\" hidden><div class=\"sk-item sk-dashed-wrapped\"><div class=\"sk-label-container\"><div class=\"sk-label sk-toggleable\"><input class=\"sk-toggleable__control sk-hidden--visually\" id=\"sk-estimator-id-19\" type=\"checkbox\" ><label for=\"sk-estimator-id-19\" class=\"sk-toggleable__label sk-toggleable__label-arrow\">Pipeline</label><div class=\"sk-toggleable__content\"><pre>Pipeline(steps=[(&#x27;scaler&#x27;, StandardScaler()), (&#x27;ridge&#x27;, Ridge())])</pre></div></div></div><div class=\"sk-serial\"><div class=\"sk-item\"><div class=\"sk-estimator sk-toggleable\"><input class=\"sk-toggleable__control sk-hidden--visually\" id=\"sk-estimator-id-20\" type=\"checkbox\" ><label for=\"sk-estimator-id-20\" class=\"sk-toggleable__label sk-toggleable__label-arrow\">StandardScaler</label><div class=\"sk-toggleable__content\"><pre>StandardScaler()</pre></div></div></div><div class=\"sk-item\"><div class=\"sk-estimator sk-toggleable\"><input class=\"sk-toggleable__control sk-hidden--visually\" id=\"sk-estimator-id-21\" type=\"checkbox\" ><label for=\"sk-estimator-id-21\" class=\"sk-toggleable__label sk-toggleable__label-arrow\">Ridge</label><div class=\"sk-toggleable__content\"><pre>Ridge()</pre></div></div></div></div></div></div></div>"
      ],
      "text/plain": [
       "Pipeline(steps=[('scaler', StandardScaler()), ('ridge', Ridge())])"
      ]
     },
     "execution_count": 41,
     "metadata": {},
     "output_type": "execute_result"
    }
   ],
   "source": [
    "# Ridge Regression with standard Scaler and GridSearchCV\n",
    "X_train, X_test, y_train, y_test = train_test_split(X, y, test_size = 0.20, random_state = 1)\n",
    "\n",
    "ridge_param_dict = {'ridge__alpha': np.logspace(0.1, 1, 50, 100)}\n",
    "ridge_pipe = Pipeline([('scaler', StandardScaler()), \n",
    "                      ('ridge', Ridge())])\n",
    "ridge_grid = GridSearchCV(ridge_pipe, param_grid=ridge_param_dict,scoring = 'neg_root_mean_squared_error')\n",
    "ridge_grid.fit(X_train, y_train)\n",
    "ridge_train_preds = ridge_grid.predict(X_train)\n",
    "ridge_test_preds = ridge_grid.predict(X_test)\n",
    "ridge_train_mse = mean_squared_error(y_train, ridge_train_preds)\n",
    "ridge_test_mse = mean_squared_error(y_test, ridge_test_preds)\n",
    "\n",
    "print(f'Ridge Regression with StandardScaler Train MSE: {ridge_train_mse}')\n",
    "print(f'Ridge Regression with StandardScaler Test MSE: {ridge_test_mse}')\n",
    "#print(\"cross_val_score=\",cross_val_score(ridge_pipe, X_train, y_train, cv=5, scoring='neg_mean_absolute_error').mean())\n",
    "ridge_pipe"
   ]
  },
  {
   "cell_type": "code",
   "execution_count": null,
   "metadata": {},
   "outputs": [],
   "source": []
  },
  {
   "cell_type": "code",
   "execution_count": null,
   "metadata": {},
   "outputs": [],
   "source": []
  },
  {
   "cell_type": "markdown",
   "metadata": {},
   "source": [
    "### Evaluation\n",
    "\n",
    "With some modeling accomplished, we aim to reflect on what we identify as a high quality model and what we are able to learn from this.  We should review our business objective and explore how well we can provide meaningful insight on drivers of used car prices.  Your goal now is to distill your findings and determine whether the earlier phases need revisitation and adjustment or if you have information of value to bring back to your client."
   ]
  },
  {
   "attachments": {},
   "cell_type": "markdown",
   "metadata": {},
   "source": [
    "##### Evaluate Results\n",
    "\n",
    "Assessment of Data: More records would provide better result\n",
    "\n",
    "Mining Results w.r.t.: Observation seen during data understanding phase matached with that in modeling phase\n",
    "\n",
    "Business Success Criteria:The explored models can predict the price of the used car. \n",
    "\n",
    "Approved Models:\n",
    "\n",
    "\n",
    "##### Review Process\n",
    "Review of Process: After submission my course instructor will review the assignement\n",
    "##### Determine Next Steps\n",
    "List of Possible Actions Decision: With more computational power a larger dataset can be explored. I couldn't use the modal column as it contain some font that threw error. \n",
    "The model execution was taking lot of time hope to optimize it futher at a later date."
   ]
  },
  {
   "cell_type": "code",
   "execution_count": null,
   "metadata": {},
   "outputs": [],
   "source": []
  },
  {
   "cell_type": "code",
   "execution_count": null,
   "metadata": {},
   "outputs": [],
   "source": []
  },
  {
   "cell_type": "code",
   "execution_count": null,
   "metadata": {},
   "outputs": [],
   "source": []
  },
  {
   "cell_type": "code",
   "execution_count": null,
   "metadata": {},
   "outputs": [],
   "source": []
  },
  {
   "cell_type": "code",
   "execution_count": null,
   "metadata": {},
   "outputs": [],
   "source": []
  },
  {
   "cell_type": "code",
   "execution_count": null,
   "metadata": {},
   "outputs": [],
   "source": []
  },
  {
   "attachments": {},
   "cell_type": "markdown",
   "metadata": {},
   "source": [
    "### Deployment\n",
    "\n",
    "The practise-assignment-2.ipynb and the ReadMe.md are the deployment artifact along with the visulization fig"
   ]
  },
  {
   "cell_type": "code",
   "execution_count": null,
   "metadata": {},
   "outputs": [],
   "source": []
  },
  {
   "cell_type": "code",
   "execution_count": null,
   "metadata": {},
   "outputs": [],
   "source": []
  },
  {
   "cell_type": "code",
   "execution_count": null,
   "metadata": {},
   "outputs": [],
   "source": []
  },
  {
   "cell_type": "code",
   "execution_count": null,
   "metadata": {},
   "outputs": [],
   "source": []
  },
  {
   "cell_type": "code",
   "execution_count": null,
   "metadata": {},
   "outputs": [],
   "source": []
  },
  {
   "cell_type": "code",
   "execution_count": null,
   "metadata": {},
   "outputs": [],
   "source": []
  },
  {
   "cell_type": "code",
   "execution_count": null,
   "metadata": {},
   "outputs": [],
   "source": []
  }
 ],
 "metadata": {
  "kernelspec": {
   "display_name": "base",
   "language": "python",
   "name": "python3"
  },
  "language_info": {
   "codemirror_mode": {
    "name": "ipython",
    "version": 3
   },
   "file_extension": ".py",
   "mimetype": "text/x-python",
   "name": "python",
   "nbconvert_exporter": "python",
   "pygments_lexer": "ipython3",
   "version": "3.9.12"
  },
  "vscode": {
   "interpreter": {
    "hash": "b7780546f2ea492995e49bbdc6ec4139a3a585efb285c2011f1594da1fb076c0"
   }
  },
  "widgets": {
   "application/vnd.jupyter.widget-state+json": {
    "state": {},
    "version_major": 2,
    "version_minor": 0
   }
  }
 },
 "nbformat": 4,
 "nbformat_minor": 4
}
